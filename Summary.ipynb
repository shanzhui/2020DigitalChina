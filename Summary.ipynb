{
 "cells": [
  {
   "cell_type": "markdown",
   "metadata": {},
   "source": [
    "# 2020数字中国创新大赛—算法赛：智慧海洋建设"
   ]
  },
  {
   "cell_type": "markdown",
   "metadata": {},
   "source": [
    "竞赛链接：https://tianchi.aliyun.com/competition/entrance/231768/information"
   ]
  },
  {
   "cell_type": "markdown",
   "metadata": {},
   "source": [
    "在这个比赛之间，我一直觉得我能提出很多想法，而且还有baseline，应该会比较容易，但是实际情况是面对数据的无力感，不知道试用什么模型，不知道怎么分析数据，不知道怎么处理数据，只知道不断地跑程序，稍微调一点参数，希望运气好能够获得好的效果，于是最终自己十分的无力。多亏从老师那里获得了一点思路，使得比赛能够进行下去。在初赛的时候，依靠运气得以进入复赛，但是我也是明白的，一直都没有能够提出比较好的方案，而且还是不太明白怎么做。\n",
    "***\n",
    "不过，通过这次比赛，我明白了很多，知道特征应该是怎么提取，模型应该是怎么建立，但是不足的地方更多，要学的东西也更多，以前是管中窥豹，狂妄自大，现在看看，小聪明根本没有用，真正的是才是王道。"
   ]
  },
  {
   "cell_type": "markdown",
   "metadata": {},
   "source": [
    "## 数据"
   ]
  },
  {
   "cell_type": "markdown",
   "metadata": {},
   "source": [
    "初赛提供11000条渔船北斗数据，数据包含脱敏后的渔船ID(ship)、经纬度坐标(x,y)、上报时间(time)、速度(v)、航向信息(d)，\n",
    "由于真实场景下海上环境复杂，经常出现信号丢失，\n",
    "设备故障等原因导致的上报坐标错误、上报数据丢失、甚至有些设备疯狂上报等。"
   ]
  },
  {
   "cell_type": "markdown",
   "metadata": {},
   "source": [
    "## 评价指标"
   ]
  },
  {
   "cell_type": "markdown",
   "metadata": {},
   "source": [
    "$$\\begin{array}{c}\n",
    "\\text { Score }= \\frac { F 1_{\\text {围网}}+F 1_{\\text {拖网}}+F 1_{\\text 刺网} } {3}\\\\\n",
    "F 1=\\frac{2 * \\mathrm{P} * \\mathrm{R}}{\\mathrm{P}+\\mathrm{R}}\n",
    "\\end{array}$$"
   ]
  },
  {
   "cell_type": "markdown",
   "metadata": {},
   "source": [
    "## 问题分析"
   ]
  },
  {
   "cell_type": "markdown",
   "metadata": {},
   "source": [
    "这是一个三分类问题，要求我们根据每条船上报的数据（初赛每条船平均300多条，复赛平均400条左右），来分辨这条船是在进行什么作业。但是数据噪声很多，因此主要的目标就是扩充样本和提取特征。其中初赛一共2699638条数据，可用于训练的样本只有7000条，，复赛一共4889341条数据，可用于训练的样本有8166条。\n",
    "***\n",
    "注意：初赛和复赛的数据集使用的坐标系不一样。\n",
    "***\n",
    "**时间特征**：所有船的作业时间都为3-4天，意味的各船之间以秒作为单位的时间跨度的差距是比较明显的。另外，考虑到不同作业主要的工作时间，小时出现的频率可能也有意义。\n",
    "***\n",
    "**常规统计特征**：对位置，速度，航向各自提取最大值、最小值、平均值、中位数、分位数、标准差等常规特征。\n",
    "***\n",
    "**数据扩充**：主要使用划窗扩充和按序号分离扩充。"
   ]
  },
  {
   "cell_type": "markdown",
   "metadata": {},
   "source": [
    "*（数据文件夹tcdata和expand_data放在上一级目录中）*"
   ]
  },
  {
   "cell_type": "markdown",
   "metadata": {},
   "source": [
    "## EDA"
   ]
  },
  {
   "cell_type": "code",
   "execution_count": 4,
   "metadata": {},
   "outputs": [],
   "source": [
    "import pandas as pd\n",
    "import numpy as np\n",
    "import os\n",
    "import tqdm\n",
    "from sklearn import linear_model\n",
    "import matplotlib.pyplot as plt\n",
    "\n",
    "df = pd.read_csv('../all.csv')"
   ]
  },
  {
   "cell_type": "markdown",
   "metadata": {},
   "source": [
    "将时间字符串转化为时间戳"
   ]
  },
  {
   "cell_type": "code",
   "execution_count": 5,
   "metadata": {},
   "outputs": [
    {
     "name": "stdout",
     "output_type": "stream",
     "text": [
      "Wall time: 11.6 s\n"
     ]
    }
   ],
   "source": [
    "%%time\n",
    "df['time'] = pd.to_datetime(df['time'], format='%m%d %H:%M:%S')"
   ]
  },
  {
   "cell_type": "markdown",
   "metadata": {},
   "source": [
    "#### 简单画图分析"
   ]
  },
  {
   "cell_type": "code",
   "execution_count": 31,
   "metadata": {},
   "outputs": [
    {
     "name": "stderr",
     "output_type": "stream",
     "text": [
      "100%|█████████████████████████████████████████████████████████████████████████████| 7000/7000 [00:48<00:00, 143.93it/s]\n",
      "0it [00:00, ?it/s]\n",
      "0it [00:00, ?it/s]\n"
     ]
    }
   ],
   "source": [
    "import pandas as pd\n",
    "import numpy as np\n",
    "import os\n",
    "from tqdm import tqdm\n",
    "import matplotlib.pyplot as plt\n",
    "\n",
    "train = pd.read_csv('../all.csv')\n",
    "numbers = []\n",
    "\n",
    "for ship in tqdm(range(7000)):\n",
    "    tmp = train[train['ship'] == ship]\n",
    "    if tmp['x'].nunique() == 1 or tmp['y'].nunique() == 1:\n",
    "        numbers.append(ship)\n",
    "\n",
    "ships = []\n",
    "for ship in tqdm(numbers):\n",
    "    ships.append( train[train['ship'] == ship].copy() )\n",
    "\n",
    "labels = []\n",
    "for df in tqdm(ships):\n",
    "    labels.append( df['type'][0] )"
   ]
  },
  {
   "cell_type": "code",
   "execution_count": 32,
   "metadata": {},
   "outputs": [],
   "source": [
    "def extract_dt(df):\n",
    "    df['time'] = pd.to_datetime(df['time'], format='%m%d %H:%M:%S')\n",
    "    df['month'] = df['time'].dt.month\n",
    "    df['day'] = df['time'].dt.day\n",
    "    df['date'] = df['time'].dt.date\n",
    "    df['hour'] = df['time'].dt.hour\n",
    "    df['weekday'] = df['time'].dt.weekday\n",
    "    return df\n",
    "train = extract_dt(train)"
   ]
  },
  {
   "cell_type": "code",
   "execution_count": 33,
   "metadata": {},
   "outputs": [
    {
     "name": "stderr",
     "output_type": "stream",
     "text": [
      "100%|██████████████████████████████████████████████████████████████████████████████| 8166/8166 [01:51<00:00, 72.98it/s]\n"
     ]
    },
    {
     "data": {
      "text/plain": [
       "0.32"
      ]
     },
     "execution_count": 33,
     "metadata": {},
     "output_type": "execute_result"
    }
   ],
   "source": [
    "tuos = []\n",
    "weis = []\n",
    "cis = []\n",
    "for ship in tqdm(range(20000,20000+8166)):\n",
    "    if train[train['ship'] == ship]['type'].iloc[0] == '拖网':\n",
    "        tuos.append( ship )\n",
    "    if train[train['ship'] == ship]['type'].iloc[0] == '围网':\n",
    "        weis.append( ship )\n",
    "    else:\n",
    "        cis.append( ship )\n",
    "boat = [ tuos , weis , cis ]\n",
    "dic = {0:'围网',1:'拖网',2:'刺网'}\n",
    "def show_line(x,y,random = True,t = 0 , k = -1):\n",
    "    if not random :\n",
    "        t = np.random.randint(3)\n",
    "    print(dic[t])\n",
    "    if k == -1:\n",
    "        k = np.random.randint( len(boat[t]) )\n",
    "        print(boat[t][k])\n",
    "        k = boat[t][k]\n",
    "    tmp = train[train['ship'] == k]\n",
    "    plt.figure(figsize = (10,10))\n",
    "    plt.plot(tmp[x] , tmp[y])\n",
    "    return tmp.copy()\n",
    "tmp = train[train['ship'] == 25698]\n",
    "tmp.sort_values('v')['v'].quantile(0.9)"
   ]
  },
  {
   "cell_type": "code",
   "execution_count": 34,
   "metadata": {},
   "outputs": [
    {
     "name": "stdout",
     "output_type": "stream",
     "text": [
      "拖网\n"
     ]
    },
    {
     "name": "stderr",
     "output_type": "stream",
     "text": [
      "D:\\Anaconda\\lib\\site-packages\\pandas\\plotting\\_matplotlib\\converter.py:103: FutureWarning: Using an implicitly registered datetime converter for a matplotlib plotting method. The converter was registered by pandas on import. Future versions of pandas will require you to explicitly register matplotlib converters.\n",
      "\n",
      "To register the converters:\n",
      "\t>>> from pandas.plotting import register_matplotlib_converters\n",
      "\t>>> register_matplotlib_converters()\n",
      "  warnings.warn(msg, FutureWarning)\n"
     ]
    },
    {
     "data": {
      "image/png": "[encoded data removed]",
      "text/plain": [
       "<Figure size 720x720 with 1 Axes>"
      ]
     },
     "metadata": {
      "needs_background": "light"
     },
     "output_type": "display_data"
    }
   ],
   "source": [
    "df = show_line('time'  ,'v' , t = 1 , k = 20866).reset_index()"
   ]
  },
  {
   "cell_type": "markdown",
   "metadata": {},
   "source": [
    "#### 把数据分为三段分别进行分析"
   ]
  },
  {
   "cell_type": "markdown",
   "metadata": {},
   "source": [
    "画图函数，输出以下内容：\n",
    "***\n",
    "1、当前船编号，当前船作业类型。\n",
    "***\n",
    "2、使用线性回归拟合x，y，使用最小二乘法求出系数a，b。\n",
    "***\n",
    "3、把数据切分为三分然后画图。\n",
    "***\n",
    "4、3与2的角度之差，2与1的角度之差。"
   ]
  },
  {
   "cell_type": "code",
   "execution_count": null,
   "metadata": {},
   "outputs": [],
   "source": [
    "#Sample\n",
    "#25178 围网\n",
    "#21200 拖网\n",
    "#27595 刺网"
   ]
  },
  {
   "cell_type": "code",
   "execution_count": 35,
   "metadata": {},
   "outputs": [],
   "source": [
    "def ALS(x,y):\n",
    "    ans = []\n",
    "    try:\n",
    "        ans = np.array(np.mat(x.T@x).I@np.mat(x.T@y))\n",
    "    except:\n",
    "        ans = np.array( np.linalg.pinv( np.mat(x.T@x) )@np.mat(x.T@y))\n",
    "    return ans\n",
    "def show_three(df):\n",
    "    print(df['ship'][:1])\n",
    "    print(df['type'][:1])\n",
    "    tmp = int(len(df)/3)\n",
    "    kmp = int(tmp * 2)\n",
    "    ls = []\n",
    "    ls.append(df[:tmp])\n",
    "    ls.append(df[tmp:kmp])\n",
    "    ls.append(df[kmp:])\n",
    "    plt.figure(figsize=(6,6),dpi=80)\n",
    "    ang = []\n",
    "    plt.figure(1)\n",
    "    ax1 = plt.subplot(1,1,1)\n",
    "    plt.scatter(ls[0]['x'],ls[0]['y'])\n",
    "    x = pd.DataFrame(ls[0]['x'])\n",
    "    x['b'] = 1\n",
    "    w=ALS(x.values , ls[0]['y'].values.reshape(len(ls[0]),1))\n",
    "    w = np.array(w)\n",
    "    w=w.flatten()\n",
    "    print('first line','a :' ,w[0] , 'b : ' , w[1])\n",
    "    ang.append(w[0])\n",
    "    plt.figure(2)\n",
    "    ax2 = plt.subplot(1,1,1)\n",
    "    plt.scatter(ls[1]['x'],ls[1]['y'])\n",
    "    x = pd.DataFrame(ls[1]['x'])\n",
    "    x['b'] = 1\n",
    "    w=ALS(x.values , ls[1]['y'].values.reshape(len(ls[1]),1))\n",
    "    w = np.array(w)\n",
    "    w=w.flatten()\n",
    "    print('second  line','a :' ,w[0] , 'b : ' , w[1])\n",
    "    ang.append(w[0])\n",
    "    plt.figure(3)\n",
    "    ax3 = plt.subplot(1,1,1)\n",
    "    plt.scatter(ls[2]['x'],ls[2]['y'])\n",
    "    x = pd.DataFrame(ls[2]['x'])\n",
    "    x['b'] = 1\n",
    "    w=ALS(x.values , ls[2]['y'].values.reshape(len(ls[2]),1))\n",
    "    w = np.array(w)\n",
    "    w=w.flatten()\n",
    "    print('third  line','a :' ,w[0] , 'b : ' , w[1])\n",
    "    ang.append(w[0])\n",
    "    print('2 - 1 角度差：' , np.arctan(ang[1]) - np.arctan(ang[0]))\n",
    "    print('3 - 2 角度差：' , np.arctan(ang[2]) - np.arctan(ang[1]))\n",
    "    print(np.arctan(ang[0]) , np.arctan(ang[1]) , np.arctan(ang[2]))\n",
    "    print('from net 2 - 1：' , np.arctan((ang[1]-ang[0])/(float(1 + ang[0]*ang[1]))))#*180/np.pi\n",
    "    print('from net 3 - 2：' , np.arctan((ang[2]-ang[1])/(float(1 + ang[1]*ang[2]))))"
   ]
  },
  {
   "cell_type": "code",
   "execution_count": 24,
   "metadata": {},
   "outputs": [
    {
     "name": "stdout",
     "output_type": "stream",
     "text": [
      "848889    21416\n",
      "Name: ship, dtype: int64\n",
      "848889    拖网\n",
      "Name: type, dtype: object\n",
      "first line a : 4.0 b :  16.0\n",
      "second  line a : 0.5631126490479801 b :  104.82140232762322\n",
      "third  line a : 2.61947219906142 b :  55.33205449907109\n",
      "2 - 1 角度差 -0.8129629300698307\n",
      "3 - 2 角度差 0.693260793155557\n",
      "1.3258176636680326 0.5128547335982019 1.2061155267537589\n",
      "from net 2 - 1 -0.8129629300698306\n",
      "from net 3 - 2 0.6932607931555571\n"
     ]
    },
    {
     "data": {
      "image/png": "[encoded data removed]",
      "text/plain": [
       "<Figure size 480x480 with 1 Axes>"
      ]
     },
     "metadata": {
      "needs_background": "light"
     },
     "output_type": "display_data"
    },
    {
     "data": {
      "image/png": "[encoded data removed]",
      "text/plain": [
       "<Figure size 432x288 with 1 Axes>"
      ]
     },
     "metadata": {
      "needs_background": "light"
     },
     "output_type": "display_data"
    },
    {
     "data": {
      "image/png": "[encoded data removed]",
      "text/plain": [
       "<Figure size 432x288 with 1 Axes>"
      ]
     },
     "metadata": {
      "needs_background": "light"
     },
     "output_type": "display_data"
    }
   ],
   "source": [
    "show_three(df[df['ship'] == np.random.randint(20000,28166)])"
   ]
  },
  {
   "cell_type": "code",
   "execution_count": 25,
   "metadata": {},
   "outputs": [
    {
     "name": "stdout",
     "output_type": "stream",
     "text": [
      "3098173    25178\n",
      "Name: ship, dtype: int64\n",
      "3098173    围网\n",
      "Name: type, dtype: object\n",
      "first line a : 0.18212193856015801 b :  116.19982010126114\n",
      "second  line a : 0.6488417200744152 b :  103.85571789741516\n",
      "third  line a : 1.1039479617029428 b :  91.76141265034676\n",
      "2 - 1 角度差 0.3954130124545654\n",
      "3 - 2 角度差 0.2592036362551787\n",
      "0.18014752059153746 0.5755605330461029 0.8347641693012816\n",
      "from net 2 - 1 0.39541301245456545\n",
      "from net 3 - 2 0.25920363625517884\n"
     ]
    },
    {
     "data": {
      "image/png": "[encoded data removed]",
      "text/plain": [
       "<Figure size 480x480 with 1 Axes>"
      ]
     },
     "metadata": {
      "needs_background": "light"
     },
     "output_type": "display_data"
    },
    {
     "data": {
      "image/png": "[encoded data removed]",
      "text/plain": [
       "<Figure size 432x288 with 1 Axes>"
      ]
     },
     "metadata": {
      "needs_background": "light"
     },
     "output_type": "display_data"
    },
    {
     "data": {
      "image/png": "[encoded data removed]",
      "text/plain": [
       "<Figure size 432x288 with 1 Axes>"
      ]
     },
     "metadata": {
      "needs_background": "light"
     },
     "output_type": "display_data"
    }
   ],
   "source": [
    "show_three(df[df['ship'] == 25178])"
   ]
  },
  {
   "cell_type": "code",
   "execution_count": 26,
   "metadata": {},
   "outputs": [
    {
     "name": "stdout",
     "output_type": "stream",
     "text": [
      "718137    21200\n",
      "Name: ship, dtype: int64\n",
      "718137    拖网\n",
      "Name: type, dtype: object\n",
      "first line a : -0.35484410139906686 b :  125.73067598871421\n",
      "second  line a : -0.4535009755054489 b :  127.95661479327828\n",
      "third  line a : -1.6549813515739515 b :  155.11703145503998\n",
      "2 - 1 角度差 -0.08477778046825252\n",
      "3 - 2 角度差 -0.601506113361077\n",
      "-0.34098374225392675 -0.42576152272217926 -1.0272676360832562\n",
      "from net 2 - 1 -0.08477778046825246\n",
      "from net 3 - 2 -0.6015061133610768\n"
     ]
    },
    {
     "data": {
      "image/png": "[encoded data removed]",
      "text/plain": [
       "<Figure size 480x480 with 1 Axes>"
      ]
     },
     "metadata": {
      "needs_background": "light"
     },
     "output_type": "display_data"
    },
    {
     "data": {
      "image/png": "[encoded data removed]",
      "text/plain": [
       "<Figure size 432x288 with 1 Axes>"
      ]
     },
     "metadata": {
      "needs_background": "light"
     },
     "output_type": "display_data"
    },
    {
     "data": {
      "image/png": "[encoded data removed]",
      "text/plain": [
       "<Figure size 432x288 with 1 Axes>"
      ]
     },
     "metadata": {
      "needs_background": "light"
     },
     "output_type": "display_data"
    }
   ],
   "source": [
    "show_three(df[df['ship'] == 21200])"
   ]
  },
  {
   "cell_type": "code",
   "execution_count": 27,
   "metadata": {},
   "outputs": [
    {
     "name": "stdout",
     "output_type": "stream",
     "text": [
      "4543273    27595\n",
      "Name: ship, dtype: int64\n",
      "4543273    刺网\n",
      "Name: type, dtype: object\n",
      "first line a : 0.010189056396484375 b :  117.39846801757812\n",
      "second  line a : -0.6673805415630341 b :  133.5220594406128\n",
      "third  line a : -0.9979248046875 b :  141.390625\n",
      "2 - 1 角度差 -0.5986853656265818\n",
      "3 - 2 角度差 -0.19586282658079412\n",
      "0.010188703819797529 -0.5884966618067843 -0.7843594883875784\n",
      "from net 2 - 1 -0.5986853656265818\n",
      "from net 3 - 2 -0.19586282658079412\n"
     ]
    },
    {
     "data": {
      "image/png": "[encoded data removed]",
      "text/plain": [
       "<Figure size 480x480 with 1 Axes>"
      ]
     },
     "metadata": {
      "needs_background": "light"
     },
     "output_type": "display_data"
    },
    {
     "data": {
      "image/png": "[encoded data removed]",
      "text/plain": [
       "<Figure size 432x288 with 1 Axes>"
      ]
     },
     "metadata": {
      "needs_background": "light"
     },
     "output_type": "display_data"
    },
    {
     "data": {
      "image/png": "[encoded data removed]",
      "text/plain": [
       "<Figure size 432x288 with 1 Axes>"
      ]
     },
     "metadata": {
      "needs_background": "light"
     },
     "output_type": "display_data"
    }
   ],
   "source": [
    "show_three(df[df['ship'] == 27595])"
   ]
  },
  {
   "cell_type": "markdown",
   "metadata": {},
   "source": [
    "### EDA总结"
   ]
  },
  {
   "cell_type": "markdown",
   "metadata": {},
   "source": [
    "惭愧的是，通过以上的画图，并没有实质分析出任何有用的特征，也没有挖掘出什么有用的信息，只是得到数据噪声很多这样的信息。不过在后边引发了进行平滑处理的想法。"
   ]
  },
  {
   "cell_type": "markdown",
   "metadata": {},
   "source": [
    "## 初赛阶段"
   ]
  },
  {
   "cell_type": "markdown",
   "metadata": {},
   "source": [
    "### 方案一：基于baseline进行修改"
   ]
  },
  {
   "cell_type": "markdown",
   "metadata": {},
   "source": [
    "#### 方案思路"
   ]
  },
  {
   "cell_type": "markdown",
   "metadata": {},
   "source": [
    "提取常规统计特征，提取时间中的小时、日期和星期，粗略计算斜率，找出天数和集中地小时工作。另外求x与y平方和并开根号。\n",
    "***\n",
    "使用lgb模型和五折交叉验证。\n",
    "***\n",
    "特征提取代码如下："
   ]
  },
  {
   "cell_type": "code",
   "execution_count": 31,
   "metadata": {},
   "outputs": [],
   "source": [
    "def group_feature(df, key, target, aggs):   \n",
    "    agg_dict = {}\n",
    "    for ag in aggs:\n",
    "        agg_dict[f'{target}_{ag}'] = ag\n",
    "    print(agg_dict)\n",
    "    t = df.groupby(key)[target].agg(agg_dict).reset_index()\n",
    "    return t\n",
    "def LS(line):\n",
    "    if line['x_max_x_min']:\n",
    "        x = np.array([line['x_max_x_min']])\n",
    "    else :\n",
    "        x = np.array([0.0001])\n",
    "    if line['y_max_y_min']:\n",
    "        y = np.array([line['y_max_y_min']])\n",
    "    else:\n",
    "        y = np.array([0.0001])\n",
    "    x = x.reshape(1,1)\n",
    "    y = y.reshape(1,1)\n",
    "    ans = np.mat( (x@x.T) ).I@x.T@y\n",
    "    return ans[0,0]\n",
    "def extract_feature(df, train):\n",
    "    t = group_feature(df, 'ship','x',['max','min','mean','std','skew','sum'])\n",
    "    train = pd.merge(train, t, on='ship', how='left')\n",
    "    t = group_feature(df, 'ship','x',['count'])\n",
    "    train = pd.merge(train, t, on='ship', how='left')\n",
    "    t = group_feature(df, 'ship','y',['max','min','mean','std','skew','sum'])\n",
    "    train = pd.merge(train, t, on='ship', how='left')\n",
    "    t = group_feature(df, 'ship','v',['max','min','mean','std','skew','sum'])\n",
    "    train = pd.merge(train, t, on='ship', how='left')\n",
    "    t = group_feature(df, 'ship','d',['max','min','mean','std','skew','sum'])\n",
    "    train = pd.merge(train, t, on='ship', how='left')\n",
    "    train['x_max_x_min'] = train['x_max'] - train['x_min']\n",
    "    train['y_max_y_min'] = train['y_max'] - train['y_min']\n",
    "    train['y_max_x_min'] = train['y_max'] - train['x_min']\n",
    "    train['x_max_y_min'] = train['x_max'] - train['y_min']\n",
    "    train['slope'] = train.apply(lambda x:LS(x) , axis=1)\n",
    "    train['area'] = train['x_max_x_min'] * train['y_max_y_min']\n",
    "    \n",
    "    mode_hour = df.groupby('ship')['hour'].agg(lambda x:x.value_counts().index[0]).to_dict()\n",
    "    train['mode_hour'] = train['ship'].map(mode_hour)\n",
    "    \n",
    "    t = group_feature(df, 'ship','hour',['max','min'])\n",
    "    train = pd.merge(train, t, on='ship', how='left')\n",
    "    \n",
    "    hour_nunique = df.groupby('ship')['hour'].nunique().to_dict()\n",
    "    date_nunique = df.groupby('ship')['date'].nunique().to_dict()\n",
    "    train['hour_nunique'] = train['ship'].map(hour_nunique)\n",
    "    train['date_nunique'] = train['ship'].map(date_nunique)\n",
    "\n",
    "    t = df.groupby('ship')['time'].agg({'diff_time':lambda x:np.max(x)-np.min(x)}).reset_index()\n",
    "    t['diff_day'] = t['diff_time'].dt.days\n",
    "    t['diff_second'] = t['diff_time'].dt.seconds\n",
    "    train = pd.merge(train, t, on='ship', how='left')\n",
    "    return train\n",
    "\n",
    "def extract_dt(df):\n",
    "    df['time'] = pd.to_datetime(df['time'], format='%m%d %H:%M:%S')\n",
    "    df['date'] = df['time'].dt.date\n",
    "    df['hour'] = df['time'].dt.hour\n",
    "    df['weekday'] = df['time'].dt.weekday\n",
    "    return df"
   ]
  },
  {
   "cell_type": "markdown",
   "metadata": {},
   "source": [
    "lgb模型参数如下："
   ]
  },
  {
   "cell_type": "code",
   "execution_count": 29,
   "metadata": {},
   "outputs": [],
   "source": [
    "params = {\n",
    "    'booster': 'gbtree',\n",
    "    'objective': 'multi:softprob',  # 多分类的问题\n",
    "    'num_class': 3,               # 类别数，与 multisoftmax 并用\n",
    "    'gamma': 0.2,                  # 用于控制是否后剪枝的参数,越大越保守，一般0.1、0.2这样子。\n",
    "    'max_depth': 9,               # 构建树的深度，越大越容易过拟合\n",
    "    'lambda': 0.5,                   # 控制模型复杂度的权重值的L2正则化项参数，参数越大，模型越不容易过拟合。\n",
    "    'colsample_bytree': 0.7,       # 生成树时进行的列采样\n",
    "    'silent': 0,                   # 设置成1则没有运行信息输出，最好是设置为0.\n",
    "    'eta': 0.01,                  # 如同学习率\n",
    "    'seed': 1000,\n",
    "}"
   ]
  },
  {
   "cell_type": "markdown",
   "metadata": {},
   "source": [
    "**方案总结：**  总体来说只是提取的常规特征，并没有比较强的特征，也没有将模型参数调好。"
   ]
  },
  {
   "cell_type": "markdown",
   "metadata": {},
   "source": [
    "### 方案二：简单线性模型融合"
   ]
  },
  {
   "cell_type": "markdown",
   "metadata": {},
   "source": [
    "方案思路：基于方案一提取的特征，将xgb、lgb和cab三个模型分别训练，然后线性加权融合。"
   ]
  },
  {
   "cell_type": "markdown",
   "metadata": {},
   "source": [
    "**方案总结：** 因为三个模型的预测倾向相近，模型融合效果并不好。"
   ]
  },
  {
   "cell_type": "markdown",
   "metadata": {},
   "source": [
    "### 方案三：暴力提取分位数"
   ]
  },
  {
   "cell_type": "markdown",
   "metadata": {},
   "source": [
    "方案思路：在方案一的基础上，按照0.01,0.05,0.1,0.2,0.3,0.4,0.5,0.6,0.7,0.8,0.9,0.95,0.99来提取分位数"
   ]
  },
  {
   "cell_type": "markdown",
   "metadata": {},
   "source": [
    "**方案总结：**效果有了明显的提升。考虑可能是因为数据是离散的，满足某种线性关系。"
   ]
  },
  {
   "cell_type": "markdown",
   "metadata": {},
   "source": [
    "### 方案四：模型融合（2）"
   ]
  },
  {
   "cell_type": "markdown",
   "metadata": {},
   "source": [
    "方案思路：基于方案一提取的特征，将xgb模型中三类最大预测概率小于0.6，lgb中三类最大预测概率大于0.8的测试样本替换为lgb的预测结果，其余为xgb预测结果。同时也尝试cab模型。"
   ]
  },
  {
   "cell_type": "markdown",
   "metadata": {},
   "source": [
    "使用的模型参数如下："
   ]
  },
  {
   "cell_type": "code",
   "execution_count": 32,
   "metadata": {},
   "outputs": [],
   "source": [
    "clf=cab.CatBoostClassifier(iterations=2000\n",
    "                          ,learning_rate=0.1\n",
    "                          ,depth=8\n",
    "                          ,loss_function='MultiClass'\n",
    "                          ,logging_level='Silent'\n",
    "                          ,class_weights=[2,2,1]\n",
    "                          ,thread_count=12\n",
    "                          ,colsample_bylevel = 0.2\n",
    "                          ,random_seed = 2020)\n",
    "xlf=xgb.XGBClassifier(max_depth=6\n",
    "                      ,colsample_bynode=0.1\n",
    "                      ,learning_rate=0.1\n",
    "                      ,n_estimators=500\n",
    "                      ,reg_alpha=0.004\n",
    "                      ,n_jobs=-1\n",
    "                      ,reg_lambda=0.002\n",
    "                      ,importance_type='total_cover'\n",
    "                      ,objective='multi:softmax')\n",
    "llf=lgb.LGBMClassifier(num_leaves=32\n",
    "                       ,max_depth=7\n",
    "                       ,learning_rate=0.1\n",
    "                       ,n_estimators=500\n",
    "                       ,class_weight={0:2,1:3,2:1}\n",
    "                       ,objective='multiclass'\n",
    "                       ,n_jobs=-1\n",
    "                       ,colsample_bytree = 0.7\n",
    "                       ,min_child_samples = 10\n",
    "                       ,random_state=2020)"
   ]
  },
  {
   "cell_type": "markdown",
   "metadata": {},
   "source": [
    "具体融合代码如下："
   ]
  },
  {
   "cell_type": "code",
   "execution_count": null,
   "metadata": {},
   "outputs": [],
   "source": [
    "res.loc[(np.max(prob_xgb,axis=1)<0.6) & (np.max(prob_lgb,axis=1)>0.8),'merge'] = \n",
    "        res.loc[(np.max(prob_xgb,axis=1)<0.6) & (np.max(prob_lgb,axis=1)>0.8),'lgb']"
   ]
  },
  {
   "cell_type": "markdown",
   "metadata": {},
   "source": [
    "**方案总结：**还是因为预测倾向相似的问题，使得这种融合并没有多少修正。"
   ]
  },
  {
   "cell_type": "markdown",
   "metadata": {},
   "source": [
    "### 方案五：基于分位数特征的xgb单模型"
   ]
  },
  {
   "cell_type": "markdown",
   "metadata": {},
   "source": [
    "方案思路：将找到的分位数这一类强特用于xgb模型。改变前四个模型的五折交叉验证的方式，使用全数据进行建模。"
   ]
  },
  {
   "cell_type": "markdown",
   "metadata": {},
   "source": [
    "**方案总结：**效果很好，但是抖动很大。"
   ]
  },
  {
   "cell_type": "markdown",
   "metadata": {},
   "source": [
    "### 方案六：划窗来扩充数据"
   ]
  },
  {
   "cell_type": "markdown",
   "metadata": {},
   "source": [
    "方案思路：使用原始数据的0.8做划窗来扩充数据，选取比较小的间隔，以便能够使得新生成的数据样本能够比较好的覆盖原本数据样本中的模式，最终得到扩充的训练集。\n",
    "使用该训练集训练xgb模型、lgb模型和cab模型，使用五折交叉验证，其中注意，每一折的验证集还是原本的训练集，只不过训练数据是扩充的训练集。\n",
    "其中特征提取方式基于方案三，模型参数基于方案四。\n",
    "***\n",
    "训练集的扩充代码如下："
   ]
  },
  {
   "cell_type": "code",
   "execution_count": null,
   "metadata": {},
   "outputs": [],
   "source": [
    "train_target = 'round1_train\\\\'\n",
    "index = 0\n",
    "for f in tqdm(train_csv):\n",
    "    if '.csv' in f:\n",
    "        df = pd.read_csv(f'{path_train}{f}')\n",
    "        df.columns = ['ship' , 'x' , 'y' , 'v' , 'd' , 'time','type']\n",
    "        interval = int( len(df)*0.8 )\n",
    "        improve = 10\n",
    "        start = 0\n",
    "        df['time'] = pd.to_datetime(df['time'], format='%m%d %H:%M:%S')\n",
    "        df = df.sort_values(by = 'time')\n",
    "        while start + interval < len(df):\n",
    "            tmp = df.iloc[start : start + interval].copy()\n",
    "            tmp['ship'] = index\n",
    "            tmp['from'] = df['ship'].iloc[0]\n",
    "            tmp.to_csv(f'{train_target}{index}.csv')\n",
    "            start += improve\n",
    "            index+=1"
   ]
  },
  {
   "cell_type": "markdown",
   "metadata": {},
   "source": [
    "**方案总结：**不知道为什么，线下效果很好，线上效果反而变差了。"
   ]
  },
  {
   "cell_type": "markdown",
   "metadata": {},
   "source": [
    "### 方案七：使用二分类模型进行修正"
   ]
  },
  {
   "cell_type": "markdown",
   "metadata": {},
   "source": [
    "方案思路：先使用基于方案五的模型和特征，然后对其中预测错误率比较高的类单独建立二分类模型去预测。\n",
    "***\n",
    "具体代码如下："
   ]
  },
  {
   "cell_type": "code",
   "execution_count": null,
   "metadata": {},
   "outputs": [],
   "source": [
    "%%time\n",
    "prob_xgb = np.zeros((len(train_data), 3))\n",
    "pred_prob_xgb = np.zeros((len(test_data) , 3))\n",
    "pred_xgb = np.zeros((len(train_data),))\n",
    "xgb_scores = []\n",
    "\n",
    "sk=StratifiedKFold(n_splits=5,shuffle=True,random_state=2020)\n",
    "for train,test in sk.split(train_data,kind):\n",
    "\n",
    "    x_train=train_data.iloc[train]\n",
    "    y_train=kind.iloc[train]\n",
    "    x_test=train_data.iloc[test]\n",
    "    y_test=kind.iloc[test]\n",
    "    \n",
    "    xlf=xgb.XGBClassifier(max_depth=6\n",
    "                      ,colsample_bynode=0.1\n",
    "                      ,learning_rate=0.1\n",
    "                      ,n_estimators=500\n",
    "                      ,reg_alpha=0.004\n",
    "                      ,n_jobs=-1\n",
    "                      ,reg_lambda=0.002\n",
    "                      ,importance_type='total_cover'\n",
    "                      ,objective='multi:softmax')\n",
    "    \n",
    "    xlf.fit(x_train[features],y_train,sample_weight=kind.map({0:3,1:5.5,2:2.5}))\n",
    "    \n",
    "    val_prob_xgb = xlf.predict_proba(x_test[features])\n",
    "    prob_xgb[test] = val_prob_xgb\n",
    "    val_pred_xgb = np.argmax(val_prob_xgb, axis=1)\n",
    "    \n",
    "    xgb_scores.append(f1_score(y_test, val_pred_xgb, average='macro'))\n",
    "    print('xgb score :' , xgb_scores[-1])\n",
    "    \n",
    "    pred_prob_xgb += xlf.predict_proba(test_data[features])/5"
   ]
  },
  {
   "cell_type": "code",
   "execution_count": null,
   "metadata": {},
   "outputs": [],
   "source": [
    "%%time\n",
    "prob_xgb = np.zeros((len(train_data), 2))\n",
    "pred_prob_xgb = np.zeros((len(test_data) , 2))\n",
    "pred_xgb = np.zeros((len(train_data),))\n",
    "xgb_scores = []\n",
    "\n",
    "sk=StratifiedKFold(n_splits=5,shuffle=True,random_state=2020)\n",
    "for train,test in sk.split(train_data,kind_0):\n",
    "\n",
    "    x_train=train_data.iloc[train]\n",
    "    y_train=kind_0.iloc[train]\n",
    "    x_test=train_data.iloc[test]\n",
    "    y_test=kind_0.iloc[test]\n",
    "    \n",
    "    xlf=xgb.XGBClassifier(max_depth=6\n",
    "                      ,colsample_bynode=0.1\n",
    "                      ,learning_rate=0.1\n",
    "                      ,n_estimators=500\n",
    "                      ,reg_alpha=0.004\n",
    "                      ,n_jobs=-1\n",
    "                      ,reg_lambda=0.002\n",
    "                      ,importance_type='total_cover'\n",
    "                         )\n",
    "    \n",
    "    xlf.fit(x_train[features],y_train)\n",
    "    \n",
    "    val_prob_xgb = xlf.predict_proba(x_test[features])\n",
    "    prob_xgb[test] = val_prob_xgb\n",
    "    val_pred_xgb = np.argmax(val_prob_xgb, axis=1)\n",
    "    \n",
    "    xgb_scores.append(f1_score(y_test, val_pred_xgb))\n",
    "    print('xgb score :' , xgb_scores[-1])\n",
    "    \n",
    "    pred_prob_xgb += xlf.predict_proba(test_data[features])/5"
   ]
  },
  {
   "cell_type": "markdown",
   "metadata": {},
   "source": [
    "**方案总结：**修正效果并不明显。"
   ]
  },
  {
   "cell_type": "markdown",
   "metadata": {},
   "source": [
    "### 方案八：伪标签"
   ]
  },
  {
   "cell_type": "markdown",
   "metadata": {},
   "source": [
    "方案思路：基于方案五，将其中对测试集得预测结果中最大概率高于某个阈值的样本假设为预测准确的样本，放入训练集中重新训练模型，再次对测试集进行预测。"
   ]
  },
  {
   "cell_type": "markdown",
   "metadata": {},
   "source": [
    "**方案总结：**效果几乎不变，猜测是样本太少的原因。"
   ]
  },
  {
   "cell_type": "markdown",
   "metadata": {},
   "source": [
    "### 方案九：两层五折交叉验证"
   ]
  },
  {
   "cell_type": "markdown",
   "metadata": {},
   "source": [
    "方案思路：在五折交叉验证之后内部再使用一次五折交叉验证。"
   ]
  },
  {
   "cell_type": "markdown",
   "metadata": {},
   "source": [
    "代码如下："
   ]
  },
  {
   "cell_type": "code",
   "execution_count": null,
   "metadata": {},
   "outputs": [],
   "source": [
    "outer_scores = []\n",
    "\n",
    "pred = np.zeros( (len(test_data),3) )\n",
    "\n",
    "sk=StratifiedKFold(n_splits=5,shuffle=True,random_state=2020)\n",
    "for index,(train,test) in enumerate(sk.split(train_data,kind)):\n",
    "    trainset = train_data[features].iloc[train]\n",
    "    trainkindset = kind.iloc[train]\n",
    "    testset = train_data[features].iloc[test]\n",
    "    testkindset = kind.iloc[test]\n",
    "    fold = StratifiedKFold(n_splits=5,shuffle=True,random_state=2020)\n",
    "    \n",
    "    inner_scores = []\n",
    "    \n",
    "    prob_test_pred = np.zeros( (len(testset),3) ) \n",
    "    inner_pred = np.zeros( (len(test_data),3 ) )\n",
    "    \n",
    "    for ind,(tr,te) in enumerate(fold.split(trainset,trainkindset)):\n",
    "        x_train = trainset.iloc[tr]\n",
    "        y_train = trainkindset.iloc[tr]\n",
    "        x_test = trainset.iloc[te]\n",
    "        y_test = trainkindset.iloc[te]\n",
    "        \n",
    "        xlf=xgb.XGBClassifier(max_depth=8\n",
    "                      ,colsample_bynode=0.1\n",
    "                      ,learning_rate=0.1\n",
    "                      ,n_estimators=400\n",
    "                      ,reg_alpha=0.004\n",
    "                      ,n_jobs=-1\n",
    "                      ,reg_lambda=0.002\n",
    "                      ,importance_type='total_cover'\n",
    "                      ,objective='multi:softmax')\n",
    "        \n",
    "        xlf.fit(x_train , y_train)\n",
    "        \n",
    "        inner_val_pred = xlf.predict(x_test)\n",
    "        inner_scores.append( f1_score(inner_val_pred , y_test , average = 'macro') )\n",
    "        print(ind , 'f1-score',inner_scores[-1])\n",
    "        \n",
    "        prob_test_pred += xlf.predict_proba(testset)/5\n",
    "        \n",
    "        inner_pred += xlf.predict_proba(test_data[features])/5\n",
    "        \n",
    "    print('-------------------------------------------------------------------------')\n",
    "    outer_val_pred = np.argmax( prob_test_pred,axis=1 )\n",
    "    outer_scores.append( f1_score( outer_val_pred ,testkindset , average = 'macro') )\n",
    "    print(index , 'f1-score' , outer_scores[-1])\n",
    "    print( 'average score' , np.mean( inner_scores ) )\n",
    "    print('-------------------------------------------------------------------------')\n",
    "    \n",
    "    pred += inner_pred/5"
   ]
  },
  {
   "cell_type": "markdown",
   "metadata": {},
   "source": [
    "**方案总结：**可能是因为这样导训练数据减少了，效果也不够好。"
   ]
  },
  {
   "cell_type": "markdown",
   "metadata": {},
   "source": [
    "### 初赛b榜"
   ]
  },
  {
   "cell_type": "markdown",
   "metadata": {},
   "source": [
    "使用方案五得到最好成绩。"
   ]
  },
  {
   "cell_type": "markdown",
   "metadata": {},
   "source": [
    "## 初赛之后发现的问题"
   ]
  },
  {
   "cell_type": "markdown",
   "metadata": {},
   "source": [
    "1、样本量太小一直是一个非常关键的瓶颈。数据扩充也做得比较粗略。\n",
    "***\n",
    "2、效果随测试集的分布变化而变化，泛华能力不够好。\n",
    "***\n",
    "3、缺少足够的强有力的特征，提取特征不够好，有时候提取的特征比较单一。\n",
    "***\n",
    "4、模型使用很不熟练，想xgb和lgb等参数也不是很了解，不能很好地找到较优的参数。\n",
    "***\n",
    "5、对数据的分析不够，或者说不会数据分析，只会简单画图，不能通过数据分析获得信息。\n",
    "***\n",
    "6、很多地方做的很不好，比如工程能力、信息检索能力和快速学习能力。\n",
    "***\n",
    "7、过分追求线下效果，以至于过度调参。\n",
    "***\n",
    "8反复跑程序却没有提出太多有效的方案，以至于浪费了太多的时间。"
   ]
  },
  {
   "cell_type": "markdown",
   "metadata": {},
   "source": [
    "## 复赛阶段"
   ]
  },
  {
   "cell_type": "markdown",
   "metadata": {},
   "source": [
    "复赛公开了新的训练集，不过其坐标系与初赛训练集的坐标系不同，硬要使用的话效果很不好，在一开始简单尝试了一下去除位置相关的特征，然后同时使用初赛和复赛的训练集进行建模，同样效果不好，这也说明了位置相关特征的重要性吧。同样的，使用坐标转换之后建模效果极差，遂放弃初赛的数据。\n",
    "***\n",
    "复赛还有一个困难的地方是使用docker镜像运行，为此学习了一段时间，并自己总结了一下使用docker提交的流程，具体步骤如下："
   ]
  },
  {
   "cell_type": "markdown",
   "metadata": {},
   "source": [
    "#### 一、建立docker文件，拉取阿里的基础python镜像 ， 具体Docker文件如下："
   ]
  },
  {
   "cell_type": "markdown",
   "metadata": {},
   "source": [
    "#Base Images\n",
    "***\n",
    "##从天池基础镜像构建\n",
    "***\n",
    "FROM registry.cn-shanghai.aliyuncs.com/tcc-public/python:3\n",
    "***\n",
    "##把当前文件夹里的文件构建到镜像的根目录下\n",
    "***\n",
    "ADD . /\n",
    "***\n",
    "##指定默认工作目录为根目录（需要把run.sh和生成的结果文件都放在该文件夹下，提交后才能运行）\n",
    "***\n",
    "WORKDIR /\n",
    "***\n",
    "##镜像启动后统一执行 sh run.sh\n",
    "***\n",
    "CMD [\"bash\",\"run.sh\"]"
   ]
  },
  {
   "cell_type": "markdown",
   "metadata": {},
   "source": [
    "#### 二、安装依赖库，本次需要的库及其版本具体如下："
   ]
  },
  {
   "cell_type": "markdown",
   "metadata": {},
   "source": [
    "pandas==0.25.1\n",
    "***\n",
    "numpy==1.16.4\n",
    "***\n",
    "sklearn==0.21.3\n",
    "***\n",
    "tqdm==4.24.0\n",
    "***\n",
    "xgboost==0.90\n",
    "***\n",
    "catboost==0.21\n",
    "***\n",
    "lightgbm==2.3.0"
   ]
  },
  {
   "cell_type": "markdown",
   "metadata": {},
   "source": [
    "#### 三、启动docker，安装依赖库，运行如下代码，也可以封装在.sh文件中批处理。"
   ]
  },
  {
   "cell_type": "markdown",
   "metadata": {},
   "source": [
    "pip install -r requirements.txt\n",
    "***\n",
    "echo \"finished\""
   ]
  },
  {
   "cell_type": "markdown",
   "metadata": {},
   "source": [
    "#### 四、使用sudo docker ps -a和sudo docker commit 命令保存修改后的镜像"
   ]
  },
  {
   "cell_type": "markdown",
   "metadata": {},
   "source": [
    "#### 五、准备好源代码文件，准备一个本地测试用的.sh文件，里面封装好必要的命令。具体如下："
   ]
  },
  {
   "cell_type": "markdown",
   "metadata": {},
   "source": [
    "-------------------------docker文件-------------------------------\n",
    "#Base Images\n",
    "***\n",
    "##从天池基础镜像构建\n",
    "***\n",
    "FROM package:2\n",
    "***\n",
    "##把当前文件夹里的文件构建到镜像的根目录下\n",
    "***\n",
    "ADD . /\n",
    "***\n",
    "##指定默认工作目录为根目录（需要把run.sh和生成的结果文件都放在该文件夹下，提交后才能运行）\n",
    "***\n",
    "WORKDIR /\n",
    "***\n",
    "##镜像启动后统一执行 sh run.sh\n",
    "***\n",
    "CMD [\"sh\", \"run.sh\"]"
   ]
  },
  {
   "cell_type": "markdown",
   "metadata": {},
   "source": [
    "-------------------------------.sh文件-------------------------------\n",
    "***\n",
    "sudo docker build -t submit:62 .\n",
    "***\n",
    "sudo docker run -it submit:62 /bin/bash\n",
    "***\n",
    "sudo docker ps -a"
   ]
  },
  {
   "cell_type": "markdown",
   "metadata": {},
   "source": [
    "#### 六、将提交命令封装到.sh文件。具体如下："
   ]
  },
  {
   "cell_type": "markdown",
   "metadata": {},
   "source": [
    "sudo docker login --username=山隹_子文 registry.cn-shanghai.aliyuncs.com\n",
    "***\n",
    "sudo docker tag submit:62 registry.cn-shanghai.aliyuncs.com/czh_test/submit:62\n",
    "***\n",
    "sudo docker push registry.cn-shanghai.aliyuncs.com/czh_test/submit:62"
   ]
  },
  {
   "cell_type": "markdown",
   "metadata": {},
   "source": [
    "**复赛相比较于初赛主要有两点进步：**\n",
    "***\n",
    "1、代码结构进行了优化。\n",
    "***\n",
    "2、提出了一个较为合理的扩展数据方案。\n",
    "***\n",
    "**另外，复赛可以总结为两个主要的方案：**\n",
    "***\n",
    "方案一：xgb单模型、xgb与lgb模型融合\n",
    "***\n",
    "方案二：数据集分裂后的xgb与lgb模型融合\n",
    "***\n",
    "方案三：数据平滑处理"
   ]
  },
  {
   "cell_type": "markdown",
   "metadata": {},
   "source": [
    "### 方案一"
   ]
  },
  {
   "cell_type": "markdown",
   "metadata": {},
   "source": [
    "#### 特征提取"
   ]
  },
  {
   "cell_type": "code",
   "execution_count": 1,
   "metadata": {},
   "outputs": [],
   "source": [
    "import warnings\n",
    "import numpy as np\n",
    "import pandas as pd\n",
    "from tqdm import tqdm\n",
    "import os\n",
    "warnings.filterwarnings(\"ignore\")"
   ]
  },
  {
   "cell_type": "markdown",
   "metadata": {},
   "source": [
    "*提取特征函数* *(特征比较单一，只发现分位数这一种比较强的特征)*"
   ]
  },
  {
   "cell_type": "code",
   "execution_count": 2,
   "metadata": {},
   "outputs": [],
   "source": [
    "features=[]\n",
    "f = []\n",
    "def read_information(path,know_type=True , columns = ['ship' , 'x' , 'y' , 'v' , 'd' , 'time','type']):\n",
    "    global f\n",
    "    f = []\n",
    "    df=pd.read_csv(path)\n",
    "    #提取时间间隔\n",
    "    df['time'] = pd.to_datetime(df['time'], format='%m%d %H:%M:%S')\n",
    "    time = df['time'].agg(lambda x:np.max(x) - np.min(x))\n",
    "    df.columns = columns\n",
    "    features.append(time.seconds)\n",
    "    f.append('diff_seconds')\n",
    "    features.append(df['ship'][0])\n",
    "    f.append('ship')\n",
    "    \n",
    "    df['d'] = df['d'] / 180.0 * np.pi\n",
    "    df['dis'] = np.sqrt( df['x']**2 + df['y']**2 )\n",
    "    #暴力提取分位数\n",
    "    for pos in [0.01,0.05,0.1,0.2,0.3,0.4,0.5,0.6,0.7,0.8,0.9,0.95,0.99]:\n",
    "        for fea in ['dis','x' , 'y' , 'v' , 'd']:\n",
    "            features.append(df[fea].quantile(pos))\n",
    "            f.append(f'{fea}_{pos}')\n",
    "    #粗略计算速度\n",
    "    t_diff=df['time'].diff().iloc[1:].dt.total_seconds()\n",
    "    x_diff=df['x'].diff().iloc[1:].abs()\n",
    "    y_diff=df['y'].diff().iloc[1:].abs()\n",
    "    dis=sum(np.sqrt(x_diff**2+y_diff**2))\n",
    "    x_a_mean=(x_diff/t_diff).mean()\n",
    "    y_a_mean=(y_diff/t_diff).mean()\n",
    "    features.append(np.sqrt(x_a_mean**2+y_a_mean**2))#a\n",
    "    f.append('a')\n",
    "    #若为训练集则添加类型这一栏\n",
    "    if(know_type):\n",
    "        if(df[\"type\"].iloc[0]=='拖网'):\n",
    "            features.append(2)\n",
    "        if(df[\"type\"].iloc[0]=='刺网'):\n",
    "            features.append(1)\n",
    "        if(df[\"type\"].iloc[0]=='围网'):\n",
    "            features.append(0)\n",
    "        f.append('type')"
   ]
  },
  {
   "cell_type": "markdown",
   "metadata": {},
   "source": [
    "*训练集提取特征* *(只是简单封装一下)*"
   ]
  },
  {
   "cell_type": "code",
   "execution_count": 3,
   "metadata": {},
   "outputs": [],
   "source": [
    "\n",
    "def get_train(system = 'linux'):\n",
    "    path_train=\"/tcdata/hy_round2_train_20200225/\"\n",
    "    if system == 'windows':\n",
    "        path_train=\"../tcdata/hy_round2_train_20200225/\"\n",
    "    print('train')    \n",
    "    print(os.listdir('/'))\n",
    "    ls = os.listdir(path_train)\n",
    "\n",
    "    for i in tqdm(ls):\n",
    "        if '.csv' in i:\n",
    "            read_information(f'{path_train}{i}',know_type=True)\n",
    "            \n",
    "    train_data=pd.DataFrame(np.array(features).reshape(len(ls),int(len(features)/len(ls))))\n",
    "    train_data.columns=f\n",
    "    return train_data"
   ]
  },
  {
   "cell_type": "markdown",
   "metadata": {},
   "source": [
    "*测试集提取特征*"
   ]
  },
  {
   "cell_type": "code",
   "execution_count": 4,
   "metadata": {},
   "outputs": [],
   "source": [
    "def get_test(system = 'linux'):\n",
    "    print('testA')\n",
    "    path_test = \"/tcdata/hy_round2_testA_20200225/\"\n",
    "    if system == 'windows':\n",
    "        path_test = \"../tcdata/hy_round2_testA_20200225/\"\n",
    "    ls = os.listdir(path_test)\n",
    "    for i in tqdm(ls):\n",
    "        if '.csv' in i:\n",
    "            read_information(f'{path_test}{i}',know_type=False,columns=['ship' , 'x' , 'y' , 'v' , 'd' , 'time'])\n",
    "            \n",
    "    test_data=pd.DataFrame(np.array(features).reshape(len(ls),int(len(features)/len(ls))))\n",
    "    test_data.columns=f\n",
    "    print(f)\n",
    "    return test_data\n"
   ]
  },
  {
   "cell_type": "markdown",
   "metadata": {},
   "source": [
    "*开始提取特征*"
   ]
  },
  {
   "cell_type": "code",
   "execution_count": 5,
   "metadata": {},
   "outputs": [],
   "source": [
    "def extract(system = 'linux'):\n",
    "    global features\n",
    "    features = []\n",
    "    train_data = get_train(system)\n",
    "    features = []\n",
    "    test_data = get_test(system)\n",
    "    features = []\n",
    "    if system == 'linux':\n",
    "        train_data.to_csv('/train_data.csv' , index = None)\n",
    "        test_data.to_csv('/test_data.csv' , index = None)\n",
    "    else:\n",
    "        train_data.to_csv('../train_data.csv' , index = None)\n",
    "        test_data.to_csv('../test_data.csv' , index = None)"
   ]
  },
  {
   "cell_type": "markdown",
   "metadata": {},
   "source": [
    "#### 模型训练"
   ]
  },
  {
   "cell_type": "code",
   "execution_count": 6,
   "metadata": {},
   "outputs": [],
   "source": [
    "import warnings\n",
    "import numpy as np\n",
    "import pandas as pd\n",
    "import xgboost as xgb\n",
    "import lightgbm as lgb\n",
    "import catboost as cab\n",
    "from sklearn.model_selection import StratifiedKFold\n",
    "from sklearn.model_selection import train_test_split\n",
    "from sklearn.metrics import f1_score\n",
    "from tqdm import tqdm\n",
    "import os\n",
    "\n",
    "warnings.filterwarnings(\"ignore\")"
   ]
  },
  {
   "cell_type": "markdown",
   "metadata": {},
   "source": [
    "### xgb模型"
   ]
  },
  {
   "cell_type": "markdown",
   "metadata": {},
   "source": [
    "*封装为一个函数：* \n",
    "***\n",
    "*输入：当前运行平台* \n",
    "***\n",
    "*返回：xgb模型，测试集预测概率矩阵，训练集预测概率矩阵* \n",
    "***\n",
    "*具体包含以下过程：* \n",
    "***\n",
    "*1、读入数据* \n",
    "***\n",
    "*2、五折交叉验证训练模型* \n",
    "***\n",
    "*3、全数据建模* \n",
    "***\n",
    "*4、返回模型融合所需要的信息* \n",
    "***"
   ]
  },
  {
   "cell_type": "code",
   "execution_count": 7,
   "metadata": {},
   "outputs": [],
   "source": [
    "def xgb_model(system = 'linux'):\n",
    "    #读入数据\n",
    "    if system == 'linux':\n",
    "        train_data = pd.read_csv('/train_data.csv')\n",
    "        test_data = pd.read_csv('/test_data.csv')\n",
    "    else:\n",
    "        train_data = pd.read_csv('../train_data.csv')\n",
    "        test_data = pd.read_csv('../test_data.csv')\n",
    "\n",
    "    train_data = train_data.sort_values('ship').reset_index()\n",
    "    test_data = test_data.sort_values('ship').reset_index()\n",
    "\n",
    "    features = list(set(train_data.columns) - set(['ship','type','from']))\n",
    "    print('123456789')\n",
    "\n",
    "    kind=train_data.type\n",
    "    train_data.drop(['type'],axis=1,inplace=True)\n",
    "    kind.value_counts(1)\n",
    "\n",
    "    #五折交叉验证\n",
    "    prob_xgb = np.zeros((len(train_data), 3))\n",
    "    pred_prob_xgb = np.zeros((len(test_data) , 3))\n",
    "    pred_xgb = np.zeros((len(train_data),))\n",
    "    xgb_scores = []\n",
    "\n",
    "    sk=StratifiedKFold(n_splits=5,shuffle=True,random_state=2020)\n",
    "    for train,test in sk.split(train_data[features],kind):\n",
    "        x_train=train_data.iloc[train]\n",
    "        y_train=kind.iloc[train]\n",
    "        x_test=train_data.iloc[test]\n",
    "        y_test=kind.iloc[test]\n",
    "    \n",
    "        xlf=xgb.XGBClassifier(max_depth=6\n",
    "                      ,colsample_bynode=0.1\n",
    "                      ,learning_rate=0.1\n",
    "                      ,n_estimators=1000\n",
    "                      ,reg_alpha=0.004\n",
    "                      ,n_jobs=-1\n",
    "                      ,reg_lambda=0.002\n",
    "                      ,importance_type='total_cover'\n",
    "                      ,objective='multi:softmax')\n",
    "    \n",
    "        xlf.fit(x_train[features],y_train,sample_weight=kind.map({0:3,1:5.5,2:2.5}))\n",
    "    \n",
    "        val_prob_xgb = xlf.predict_proba(x_test[features])\n",
    "        prob_xgb[test] = val_prob_xgb\n",
    "        val_pred_xgb = np.argmax(val_prob_xgb, axis=1)\n",
    "    \n",
    "        xgb_scores.append(f1_score(y_test, val_pred_xgb, average='macro'))\n",
    "        print('xgb score :' , xgb_scores[-1])\n",
    "    \n",
    "        pred_prob_xgb += xlf.predict_proba(test_data[features])/5\n",
    "\n",
    "\n",
    "    pred_xgb = np.argmax(prob_xgb , axis=1)\n",
    "    print('xgb :' , f1_score(pred_xgb, kind, average='macro') )\n",
    "    print('average : ' , np.mean(xgb_scores) )\n",
    "\n",
    "\n",
    "    res = pd.DataFrame()\n",
    "    res['ship'] = test_data['ship']\n",
    "    res['pred'] = pd.Series(np.argmax(pred_prob_xgb,axis=1))\n",
    "    res['pred'] = res['pred'].map({0:'围网',1:'刺网',2:'拖网'})\n",
    "    res.to_csv('result_xgb_2.csv',header = None , index = None)\n",
    "    #全数据建模\n",
    "    xlf=xgb.XGBClassifier(max_depth=6\n",
    "                      ,colsample_bynode=0.1\n",
    "                      ,learning_rate=0.1\n",
    "                      ,n_estimators=1000\n",
    "                      ,reg_alpha=0.004\n",
    "                      ,n_jobs=-1\n",
    "                      ,reg_lambda=0.002\n",
    "                      ,importance_type='total_cover'\n",
    "                      ,objective='multi:softmax')\n",
    "    \n",
    "    xlf.fit(train_data[features],kind,sample_weight=kind.map({0:3,1:5.5,2:2.5}))\n",
    "    test_pred_xgb = xlf.predict_proba(test_data[features])\n",
    "    #返回必要信息\n",
    "    return xlf , test_pred_xgb , prob_xgb\n",
    "    #以下是僵尸代码，如果删除上边的返回值，则下面的代码将会运行，从而变为xgb单模型预测。\n",
    "    res = pd.DataFrame()\n",
    "    res['ship'] = test_data['ship'].astype('int')\n",
    "    res['pred'] = pd.Series(np.argmax(test_pred_xgb,axis=1))\n",
    "    res['pred'] = res['pred'].map({0:'围网',1:'刺网',2:'拖网'})\n",
    "    if system == 'linux':\n",
    "        res.to_csv('/result.csv',header = None , index = None)\n",
    "    else:\n",
    "        res.to_csv('../result.csv',header = None , index = None)\n",
    "    print(os.listdir('/'))"
   ]
  },
  {
   "cell_type": "markdown",
   "metadata": {},
   "source": [
    "### lgb模型"
   ]
  },
  {
   "cell_type": "markdown",
   "metadata": {},
   "source": [
    "*下面的函数内容和输入数据均与xgb相同，在此不做赘述*"
   ]
  },
  {
   "cell_type": "code",
   "execution_count": 8,
   "metadata": {},
   "outputs": [],
   "source": [
    "def lgb_model(system = 'linux'):\n",
    "    #读入数据\n",
    "    if system == 'linux':\n",
    "        train_data = pd.read_csv('/train_data.csv')\n",
    "        test_data = pd.read_csv('/test_data.csv')\n",
    "    else:\n",
    "        train_data = pd.read_csv('../train_data.csv')\n",
    "        test_data = pd.read_csv('../test_data.csv')\n",
    "        \n",
    "    train_data = train_data.sort_values('ship').reset_index()\n",
    "    test_data = test_data.sort_values('ship').reset_index()\n",
    "\n",
    "    features = list(set(train_data.columns) - set(['ship','type','from']))\n",
    "\n",
    "    kind=train_data.type\n",
    "    train_data.drop(['type'],axis=1,inplace=True)\n",
    "    kind.value_counts(1)\n",
    "    #五折交叉验证\n",
    "    prob_lgb = np.zeros((len(train_data), 3))\n",
    "    pred_prob_lgb = np.zeros((len(test_data) , 3))\n",
    "    pred_lgb = np.zeros((len(train_data),))\n",
    "    lgb_scores = []\n",
    "\n",
    "    sk=StratifiedKFold(n_splits=5,shuffle=True,random_state=2020)\n",
    "    for train,test in sk.split(train_data[features],kind):\n",
    "        x_train=train_data.iloc[train]\n",
    "        y_train=kind.iloc[train]\n",
    "        x_test=train_data.iloc[test]\n",
    "        y_test=kind.iloc[test]\n",
    "    \n",
    "        llf=lgb.LGBMClassifier(num_leaves=32\n",
    "                       ,max_depth=11\n",
    "                       ,learning_rate=0.1\n",
    "                       ,n_estimators=500\n",
    "                       ,class_weight={0:2,1:3,2:1}\n",
    "                       ,objective='multiclass'\n",
    "                       ,n_jobs=-1\n",
    "                       ,colsample_bytree = 0.7\n",
    "                       ,min_child_samples = 10\n",
    "                       ,random_state=2020)\n",
    "    \n",
    "        llf.fit(x_train[features],y_train)\n",
    "    \n",
    "        val_prob_lgb = llf.predict_proba(x_test[features])\n",
    "        prob_lgb[test] = val_prob_lgb\n",
    "        val_pred_lgb = np.argmax(val_prob_lgb, axis=1)\n",
    "    \n",
    "        lgb_scores.append(f1_score(y_test, val_pred_lgb, average='macro'))\n",
    "        print('lgb score :' , lgb_scores[-1])\n",
    "    \n",
    "        pred_prob_lgb += llf.predict_proba(test_data[features])/5\n",
    "\n",
    "    pred_lgb = np.argmax(prob_lgb , axis=1)\n",
    "    print('lgb :' , f1_score(pred_lgb, kind, average='macro') )\n",
    "    print('average : ' , np.mean(lgb_scores) )\n",
    "\n",
    "    res = pd.DataFrame()\n",
    "    res['ship'] = test_data['ship']\n",
    "    res['pred'] = pd.Series(np.argmax(pred_prob_lgb,axis=1))\n",
    "    res['pred'] = res['pred'].map({0:'围网',1:'刺网',2:'拖网'})\n",
    "    res.to_csv('result_xgb_2.csv',header = None , index = None)\n",
    "    #全数据建模\n",
    "    llf=lgb.LGBMClassifier(num_leaves=32\n",
    "                       ,max_depth=7\n",
    "                       ,learning_rate=0.1\n",
    "                       ,n_estimators=600\n",
    "                       ,class_weight={0:2,1:3,2:1}\n",
    "                       ,objective='multiclass'\n",
    "                       ,n_jobs=-1\n",
    "                       ,colsample_bytree = 0.7\n",
    "                       ,min_child_samples = 10\n",
    "                       ,random_state=2020)\n",
    "    \n",
    "    llf.fit(train_data[features],kind)\n",
    "    test_pred_lgb = llf.predict_proba(test_data[features])\n",
    "    #返回必要信息\n",
    "    return llf , test_pred_lgb , prob_lgb\n",
    "    #以下是僵尸代码，如果删除上边的返回值，则下面的代码将会运行，从而变为lgb单模型预测。\n",
    "    res = pd.DataFrame()\n",
    "    res['ship'] = test_data['ship'].astype('int')\n",
    "    res['pred'] = pd.Series(np.argmax(test_pred_lgb,axis=1))\n",
    "    res['pred'] = res['pred'].map({0:'围网',1:'刺网',2:'拖网'})\n",
    "    if system == 'linux':\n",
    "        res.to_csv('/result.csv',header = None , index = None)\n",
    "    else:\n",
    "        res.to_csv('../result.csv',header = None , index = None)\n",
    "    print(os.listdir('/'))\n"
   ]
  },
  {
   "cell_type": "markdown",
   "metadata": {},
   "source": [
    "#### 模型融合"
   ]
  },
  {
   "cell_type": "code",
   "execution_count": 9,
   "metadata": {},
   "outputs": [],
   "source": [
    "import pandas as pd\n",
    "import numpy as np\n",
    "from sklearn.metrics import f1_score"
   ]
  },
  {
   "cell_type": "markdown",
   "metadata": {},
   "source": [
    "*lgb和xgb分别以0.5的权重进行融合，这种简单的线性融合在初赛效果一般，复赛a榜效果较好，但是b榜效果比较差，可能跟测试集的数据分布有关*\n",
    "***\n",
    "*输入：当前运行平台*\n",
    "***\n",
    "*输出：lgb模型，xgb模型，lgb测试集预测概率矩阵，xgb测试集预测概率矩阵，lgb训练集预测概率矩阵，xgb训练集预测概率矩阵*"
   ]
  },
  {
   "cell_type": "code",
   "execution_count": 10,
   "metadata": {},
   "outputs": [],
   "source": [
    "def merge(system = 'linux'):\n",
    "    lmodel , lgb_proba , train_prob_lgb = lgb_model(system)\n",
    "    xmodel , xgb_probe , train_prob_xgb = xgb_model(system)\n",
    "\n",
    "    if system == 'linux':\n",
    "        train_data = pd.read_csv('/train_data.csv')\n",
    "        test_data = pd.read_csv('/test_data.csv')\n",
    "    else:\n",
    "        train_data = pd.read_csv('../train_data.csv')\n",
    "        test_data = pd.read_csv('../test_data.csv')\n",
    "\n",
    "    test_pred = lgb_proba * 0.5 + xgb_probe * 0.5\n",
    "    train_pred = train_prob_lgb * 0.5 + train_prob_xgb * 0.5\n",
    "    print('merge ' , f1_score(np.argmax(train_pred,axis=1),train_data.type,average = 'macro'))\n",
    "    \n",
    "    res = pd.DataFrame()\n",
    "    res['ship'] = test_data['ship'].astype('int')\n",
    "    res['pred'] = pd.Series(np.argmax(test_pred,axis=1))\n",
    "    res['pred'] = res['pred'].map({0:'围网',1:'刺网',2:'拖网'})\n",
    "    if system == 'linux':\n",
    "        res.to_csv('/result.csv',header = None , index = None)\n",
    "    else:\n",
    "        res.to_csv('../result.csv',header = None , index = None)\n",
    "    \n",
    "    return lmodel , xmodel , lgb_proba , xgb_probe , train_prob_lgb , train_prob_xgb"
   ]
  },
  {
   "cell_type": "markdown",
   "metadata": {},
   "source": [
    "### 方案二"
   ]
  },
  {
   "cell_type": "markdown",
   "metadata": {},
   "source": [
    "#### 数据扩展"
   ]
  },
  {
   "cell_type": "markdown",
   "metadata": {},
   "source": [
    "##### 数据集分割"
   ]
  },
  {
   "cell_type": "markdown",
   "metadata": {},
   "source": [
    "*假设一条船有n条数据，将3*n分割为一份数据 ， 3*n+1分割为一份数据，3*n+2分割为一份数据*\n",
    "***\n",
    "*最终将数据扩充为原先的3倍*"
   ]
  },
  {
   "cell_type": "code",
   "execution_count": 11,
   "metadata": {},
   "outputs": [],
   "source": [
    "def expand(system = 'linux'):\n",
    "    print('3 split')\n",
    "    path_train=\"/tcdata/hy_round2_train_20200225/\"\n",
    "    if system == 'windows':\n",
    "        path_train=\"../tcdata/hy_round2_train_20200225/\"\n",
    "    ls = os.listdir(path_train)\n",
    "    for i in tqdm(ls):\n",
    "        if '.csv' in i:\n",
    "            df = pd.read_csv(f'{path_train}{i}')\n",
    "            if system == 'windows':\n",
    "                #对分割的数据做标记，表明是分割的第几份。\n",
    "                tmp = df[::3]\n",
    "                tmp['label'] = 1\n",
    "                tmp.to_csv(f'../expand_data/{i[:-4]}_1.csv' , index = None)\n",
    "                tmp = df[1::3]\n",
    "                tmp['label'] = 2\n",
    "                tmp.to_csv(f'../expand_data/{i[:-4]}_2.csv' , index = None)\n",
    "                tmp = df[2::3]\n",
    "                tmp['label'] = 3\n",
    "                tmp.to_csv(f'../expand_data/{i[:-4]}_3.csv' , index = None)\n",
    "            else :\n",
    "                tmp = df[::3]\n",
    "                tmp['label'] = 1\n",
    "                tmp.to_csv(f'/expand_data/{i[:-4]}_1.csv' , index = None)\n",
    "                tmp = df[1::3]\n",
    "                tmp['label'] = 2\n",
    "                tmp.to_csv(f'/expand_data/{i[:-4]}_2.csv' , index = None)\n",
    "                tmp = df[2::3]\n",
    "                tmp['label'] = 3\n",
    "                tmp.to_csv(f'/expand_data/{i[:-4]}_3.csv' , index = None)"
   ]
  },
  {
   "cell_type": "markdown",
   "metadata": {},
   "source": [
    "#### 特征提取（扩展数据）"
   ]
  },
  {
   "cell_type": "markdown",
   "metadata": {},
   "source": [
    "*与之前的特征提取大致类似*"
   ]
  },
  {
   "cell_type": "code",
   "execution_count": 12,
   "metadata": {},
   "outputs": [],
   "source": [
    "features=[]\n",
    "f = []\n",
    "def read_information(path,know_type=True , columns = ['ship' , 'x' , 'y' , 'v' , 'd' , 'time','type']):\n",
    "    global f\n",
    "    f = []\n",
    "    df=pd.read_csv(path)\n",
    "    #提取时间间隔\n",
    "    df['time'] = pd.to_datetime(df['time'], format='%m%d %H:%M:%S')\n",
    "    time = df['time'].agg(lambda x:np.max(x) - np.min(x))\n",
    "    df.columns = columns\n",
    "    features.append(time.seconds)\n",
    "    f.append('diff_seconds')\n",
    "    features.append(df['ship'][0])\n",
    "    f.append('ship')\n",
    "    \n",
    "    df['d'] = df['d'] / 180.0 * np.pi\n",
    "    df['dis'] = np.sqrt( df['x']**2 + df['y']**2 )\n",
    "    #暴力提取分位数\n",
    "    for pos in [0.01,0.05,0.1,0.2,0.3,0.4,0.5,0.6,0.7,0.8,0.9,0.95,0.99]:\n",
    "        for fea in ['dis','x' , 'y' , 'v' , 'd']:\n",
    "            features.append(df[fea].quantile(pos))\n",
    "            f.append(f'{fea}_{pos}')\n",
    "    #粗略计算速度    \n",
    "    df['time']=pd.to_datetime(df['time'],format='%m%d %H:%M:%S')\n",
    "    t_diff=df['time'].diff().iloc[1:].dt.total_seconds()\n",
    "    x_diff=df['x'].diff().iloc[1:].abs()\n",
    "    y_diff=df['y'].diff().iloc[1:].abs()\n",
    "    dis=sum(np.sqrt(x_diff**2+y_diff**2))\n",
    "    x_a_mean=(x_diff/t_diff).mean()\n",
    "    y_a_mean=(y_diff/t_diff).mean()\n",
    "    features.append(np.sqrt(x_a_mean**2+y_a_mean**2))#a\n",
    "    f.append('a')\n",
    "    #若为训练集则添加类型这一栏 \n",
    "    if(know_type):\n",
    "        if(df[\"type\"].iloc[0]=='拖网'):\n",
    "            features.append(2)\n",
    "        if(df[\"type\"].iloc[0]=='刺网'):\n",
    "            features.append(1)\n",
    "        if(df[\"type\"].iloc[0]=='围网'):\n",
    "            features.append(0)\n",
    "        f.append('type')\n",
    "    #添加数据集标记，表明是第几分数据。\n",
    "    if 'label' in columns:\n",
    "        features.append(df['label'][0])\n",
    "        f.append('label')\n"
   ]
  },
  {
   "cell_type": "markdown",
   "metadata": {},
   "source": [
    "*训练集提取特征*"
   ]
  },
  {
   "cell_type": "code",
   "execution_count": 13,
   "metadata": {},
   "outputs": [],
   "source": [
    "def get_train(system = 'linux'):\n",
    "    path_train=\"/tcdata/hy_round2_train_20200225/\"\n",
    "    if system == 'windows':\n",
    "        path_train=\"../tcdata/hy_round2_train_20200225/\"\n",
    "    print('train')    \n",
    "    print(os.listdir('/'))\n",
    "    ls = os.listdir(path_train)\n",
    "\n",
    "    for i in tqdm(ls):\n",
    "        if '.csv' in i:\n",
    "            read_information(f'{path_train}{i}',know_type=True)\n",
    "            \n",
    "    train_data=pd.DataFrame(np.array(features).reshape(len(ls),int(len(features)/len(ls))))\n",
    "    train_data.columns=f\n",
    "    return train_data"
   ]
  },
  {
   "cell_type": "markdown",
   "metadata": {},
   "source": [
    "*测试集提取特征*"
   ]
  },
  {
   "cell_type": "code",
   "execution_count": 14,
   "metadata": {},
   "outputs": [],
   "source": [
    "def get_test(system = 'linux'):\n",
    "    print('testA')\n",
    "    path_test = \"/tcdata/hy_round2_testA_20200225/\"\n",
    "    if system == 'windows':\n",
    "        path_test = \"../tcdata/hy_round2_testA_20200225/\"\n",
    "    ls = os.listdir(path_test)\n",
    "    for i in tqdm(ls):\n",
    "        if '.csv' in i:\n",
    "            read_information(f'{path_test}{i}',know_type=False,columns=['ship' , 'x' , 'y' , 'v' , 'd' , 'time'])\n",
    "            \n",
    "    test_data=pd.DataFrame(np.array(features).reshape(len(ls),int(len(features)/len(ls))))\n",
    "    test_data.columns=f\n",
    "    print(f)\n",
    "    return test_data"
   ]
  },
  {
   "cell_type": "markdown",
   "metadata": {},
   "source": [
    "*扩充的训练集提取特征*"
   ]
  },
  {
   "cell_type": "code",
   "execution_count": 15,
   "metadata": {},
   "outputs": [],
   "source": [
    "def get_expand_train(system = 'linux'):\n",
    "    path_train=\"/expand_data/\"\n",
    "    if system == 'windows':\n",
    "        path_train=\"../expand_data/\"\n",
    "    print('expand_train')    \n",
    "    print(os.listdir('/'))\n",
    "    ls = os.listdir(path_train)\n",
    "\n",
    "    for i in tqdm(ls):\n",
    "        if '.csv' in i:\n",
    "            read_information(f'{path_train}{i}',know_type=True,columns=['ship' , 'x' , 'y' , 'v' , 'd' , 'time','type' , 'label'])\n",
    "            \n",
    "    train_data=pd.DataFrame(np.array(features).reshape(len(ls),int(len(features)/len(ls))))\n",
    "    train_data.columns=f\n",
    "    print(f)\n",
    "    return train_data"
   ]
  },
  {
   "cell_type": "markdown",
   "metadata": {},
   "source": [
    "*开始提取特征*"
   ]
  },
  {
   "cell_type": "code",
   "execution_count": 16,
   "metadata": {},
   "outputs": [],
   "source": [
    "def extract_expand(system = 'linux'):\n",
    "    global features\n",
    "    features = []\n",
    "    train_data = get_train(system)\n",
    "    features = []\n",
    "    test_data = get_test(system)\n",
    "    features = []\n",
    "    expand_train_data = get_expand_train(system)\n",
    "    if system == 'linux':\n",
    "        train_data.to_csv('/train_data.csv' , index = None)\n",
    "        test_data.to_csv('/test_data.csv' , index = None)\n",
    "        expand_train_data.to_csv('/expand_train_data.csv' , index = None)\n",
    "    else:\n",
    "        train_data.to_csv('../train_data.csv' , index = None)\n",
    "        test_data.to_csv('../test_data.csv' , index = None)\n",
    "        expand_train_data.to_csv('../expand_train_data.csv' , index = None)"
   ]
  },
  {
   "cell_type": "markdown",
   "metadata": {},
   "source": [
    "#### 模型训练（扩展数据）"
   ]
  },
  {
   "cell_type": "markdown",
   "metadata": {},
   "source": [
    "### xgb模型"
   ]
  },
  {
   "cell_type": "markdown",
   "metadata": {},
   "source": [
    "\n",
    "*大致过程与前面的相同，主要不同在于五折交叉验证的时候验证集是原始训练集的数据*\n",
    "***\n",
    "*在五折交叉验证中，同时输对未扩展训练集的预测和对扩展训练集的预测*"
   ]
  },
  {
   "cell_type": "code",
   "execution_count": 17,
   "metadata": {},
   "outputs": [],
   "source": [
    "def xgb_model_expand(system = 'linux'):\n",
    "    #读入数据\n",
    "    if system == 'linux':\n",
    "        train_data = pd.read_csv('/train_data.csv')\n",
    "        expand_train_data = pd.read_csv('/expand_train_data.csv')\n",
    "        test_data = pd.read_csv('/test_data.csv')\n",
    "    else:\n",
    "        train_data = pd.read_csv('../train_data.csv')\n",
    "        expand_train_data = pd.read_csv('../expand_train_data.csv')\n",
    "        test_data = pd.read_csv('../test_data.csv')\n",
    "\n",
    "    train_data = train_data.sort_values('ship').reset_index()\n",
    "    expand_train_data = expand_train_data.sort_values(['ship' , 'label']).reset_index()\n",
    "    test_data = test_data.sort_values('ship').reset_index()\n",
    "\n",
    "    features = list(set(train_data.columns) - set(['ship','type','from']))\n",
    "    print('changed10')\n",
    "\n",
    "\n",
    "#划分特征与目标\n",
    "    kind=train_data.type\n",
    "    print(kind.value_counts(1))\n",
    "    expand_kind_1 = expand_train_data[expand_train_data['label'] == 1].type\n",
    "    expand_kind_2 = expand_train_data[expand_train_data['label'] == 2].type\n",
    "    expand_kind_3 = expand_train_data[expand_train_data['label'] == 3].type\n",
    "    expand_train_data_1 = expand_train_data[expand_train_data['label'] == 1]\n",
    "    expand_train_data_2 = expand_train_data[expand_train_data['label'] == 2]\n",
    "    expand_train_data_3 = expand_train_data[expand_train_data['label'] == 3]\n",
    "\n",
    "    print(expand_train_data_1.values.shape , expand_train_data_2.values.shape , train_data.values.shape)\n",
    "    print(expand_train_data_3.values.shape)\n",
    "    #五折交叉验证\n",
    "    prob_xgb = np.zeros((len(train_data), 3))\n",
    "    pred_prob_xgb = np.zeros((len(test_data) , 3))\n",
    "    pred_xgb = np.zeros((len(train_data),))\n",
    "    expand_prob_xgb = np.zeros( (len(expand_train_data_1),3) )\n",
    "    expand_pred_xgb = np.zeros( (len(expand_train_data_1),) )\n",
    "    xgb_scores = []\n",
    "    expand_xgb_scores = []\n",
    "\n",
    "    sk=StratifiedKFold(n_splits=5,shuffle=True,random_state=2020)\n",
    "    for train,test in sk.split(expand_train_data_1[features],expand_kind_1):\n",
    "        expand_x_train=pd.concat( [expand_train_data_1.iloc[train],expand_train_data_2.iloc[train],train_data.iloc[train],expand_train_data_3.iloc[train]] )\n",
    "        expand_y_train=pd.concat( [expand_kind_1.iloc[train],expand_kind_2.iloc[train],kind.iloc[train],expand_kind_3.iloc[train] ] )\n",
    "        expand_x_test=expand_train_data_1.iloc[test]\n",
    "        expand_y_test=expand_kind_1.iloc[test]\n",
    "        #-------------------------------------------------------------------------------------------------------\n",
    "        x_test = train_data.iloc[test]\n",
    "        y_test = kind.iloc[test]\n",
    "        #--------------------------------------------------------------------------------------------------\n",
    "        xlf=xgb.XGBClassifier(max_depth=7\n",
    "                      ,colsample_bynode=0.1\n",
    "                      ,learning_rate=0.1\n",
    "                      ,n_estimators=1000\n",
    "                      ,reg_alpha=0.04\n",
    "                      ,n_jobs=-1\n",
    "                      ,reg_lambda=0.02\n",
    "                      ,importance_type='total_cover'\n",
    "                      ,objective='multi:softmax')\n",
    "        #-----------------------------------------------------------------------------------------------\n",
    "        xlf.fit(expand_x_train[features],expand_y_train)\n",
    "        #------------------------------------------------------------------------------------------------\n",
    "        val_prob_xgb = xlf.predict_proba(x_test[features])\n",
    "        prob_xgb[test] = val_prob_xgb\n",
    "        val_pred_xgb = np.argmax(val_prob_xgb, axis=1)\n",
    "        #--------------------------------------------------------------------------------------------------\n",
    "        expand_val_prob_xgb = xlf.predict_proba(expand_x_test[features])\n",
    "        expand_prob_xgb[test] = expand_val_prob_xgb\n",
    "        expand_val_pred_xgb = np.argmax(expand_val_prob_xgb, axis=1)\n",
    "        #--------------------------------------------------------------------------------------------------\n",
    "        xgb_scores.append(f1_score(y_test, val_pred_xgb, average='macro'))\n",
    "        print('xgb score :' , xgb_scores[-1])\n",
    "        #---------------------------------------------------------------------------------------------------\n",
    "        expand_xgb_scores.append(f1_score(expand_y_test, expand_val_pred_xgb, average='macro'))\n",
    "        print('expand xgb score :' , expand_xgb_scores[-1])\n",
    "        #-------------------------------------------------------------------------------------------------\n",
    "        pred_prob_xgb += xlf.predict_proba(test_data[features])/5\n",
    "\n",
    "    pred_xgb = np.argmax(prob_xgb , axis=1)\n",
    "    print('xgb :' , f1_score(pred_xgb, kind, average='macro') )\n",
    "    print('average : ' , np.mean(xgb_scores) )\n",
    "\n",
    "    res = pd.DataFrame()\n",
    "    res['ship'] = test_data['ship']\n",
    "    res['pred'] = pd.Series(np.argmax(pred_prob_xgb,axis=1))\n",
    "    res['pred'] = res['pred'].map({0:'围网',1:'刺网',2:'拖网'})\n",
    "    res.to_csv('result.csv',header = None , index = None)\n",
    "    #全数据建模\n",
    "    xlf=xgb.XGBClassifier(max_depth=7\n",
    "                      ,colsample_bynode=0.1\n",
    "                      ,learning_rate=0.1\n",
    "                      ,n_estimators=1000\n",
    "                      ,reg_alpha=0.04\n",
    "                      ,n_jobs=-1\n",
    "                      ,reg_lambda=0.02\n",
    "                      ,importance_type='total_cover'\n",
    "                      ,objective='multi:softmax')\n",
    "    \n",
    "    xlf.fit(pd.concat([expand_train_data[features],train_data[features]]),pd.concat([expand_train_data.type,kind]))\n",
    "    test_pred_xgb = xlf.predict_proba(test_data[features])\n",
    "    return xlf , test_pred_xgb , prob_xgb\n",
    "    #以下是僵尸代码，如果删除上边的返回值，则下面的代码将会运行，从而变为xgb单模型预测。\n",
    "    res = pd.DataFrame()\n",
    "    res['ship'] = test_data['ship'].astype('int')\n",
    "    res['pred'] = pd.Series(np.argmax(test_pred_xgb,axis=1))\n",
    "    res['pred'] = res['pred'].map({0:'围网',1:'刺网',2:'拖网'})\n",
    "    if system == 'linux':\n",
    "        res.to_csv('/result.csv',header = None , index = None)\n",
    "    else:\n",
    "        res.to_csv('../result.csv',header = None , index = None)\n",
    "    print(os.listdir('/'))"
   ]
  },
  {
   "cell_type": "markdown",
   "metadata": {},
   "source": [
    "### lgb模型"
   ]
  },
  {
   "cell_type": "markdown",
   "metadata": {},
   "source": [
    "*下面符号使用的比较贴近xgb，但是使用的模型就是lgb，只不过改动起来比较麻烦，故保留了符号，修改了模型*"
   ]
  },
  {
   "cell_type": "code",
   "execution_count": 18,
   "metadata": {},
   "outputs": [],
   "source": [
    "def lgb_model_expand(system = 'linux'):\n",
    "    #读入数据\n",
    "    if system == 'linux':\n",
    "        train_data = pd.read_csv('/train_data.csv')\n",
    "        expand_train_data = pd.read_csv('/expand_train_data.csv')\n",
    "        test_data = pd.read_csv('/test_data.csv')\n",
    "    else:\n",
    "        train_data = pd.read_csv('../train_data.csv')\n",
    "        expand_train_data = pd.read_csv('../expand_train_data.csv')\n",
    "        test_data = pd.read_csv('../test_data.csv')\n",
    "\n",
    "    train_data = train_data.sort_values('ship').reset_index()\n",
    "    expand_train_data = expand_train_data.sort_values(['ship' , 'label']).reset_index()\n",
    "    test_data = test_data.sort_values('ship').reset_index()\n",
    "\n",
    "    features = list(set(train_data.columns) - set(['ship','type','from']))\n",
    "    print('changed11')\n",
    "\n",
    "#划分特征与目标\n",
    "    kind=train_data.type\n",
    "    print(kind.value_counts(1))\n",
    "    expand_kind_1 = expand_train_data[expand_train_data['label'] == 1].type\n",
    "    expand_kind_2 = expand_train_data[expand_train_data['label'] == 2].type\n",
    "    expand_kind_3 = expand_train_data[expand_train_data['label'] == 3].type\n",
    "    expand_train_data_1 = expand_train_data[expand_train_data['label'] == 1]\n",
    "    expand_train_data_2 = expand_train_data[expand_train_data['label'] == 2]\n",
    "    expand_train_data_3 = expand_train_data[expand_train_data['label'] == 3]\n",
    "\n",
    "    print(expand_train_data_1.values.shape , expand_train_data_2.values.shape , train_data.values.shape)\n",
    "    print(expand_train_data_3.values.shape)\n",
    "    #五折交叉验证\n",
    "    prob_xgb = np.zeros((len(train_data), 3))\n",
    "    pred_prob_xgb = np.zeros((len(test_data) , 3))\n",
    "    pred_xgb = np.zeros((len(train_data),))\n",
    "    expand_prob_xgb = np.zeros( (len(expand_train_data_1),3) )\n",
    "    expand_pred_xgb = np.zeros( (len(expand_train_data_1),) )\n",
    "    xgb_scores = []\n",
    "    expand_xgb_scores = []\n",
    "\n",
    "    sk=StratifiedKFold(n_splits=5,shuffle=True,random_state=2020)\n",
    "    for train,test in sk.split(expand_train_data_1[features],expand_kind_1):\n",
    "        expand_x_train=pd.concat( [expand_train_data_1.iloc[train],expand_train_data_2.iloc[train],train_data.iloc[train],expand_train_data_3.iloc[train]] )\n",
    "        expand_y_train=pd.concat( [expand_kind_1.iloc[train],expand_kind_2.iloc[train],kind.iloc[train],expand_kind_3.iloc[train]] )\n",
    "        expand_x_test=expand_train_data_1.iloc[test]\n",
    "        expand_y_test=expand_kind_1.iloc[test]\n",
    "        #-------------------------------------------------------------------------------------------------------\n",
    "        x_test = train_data.iloc[test]\n",
    "        y_test = kind.iloc[test]\n",
    "        #--------------------------------------------------------------------------------------------------\n",
    "        xlf=lgb.LGBMClassifier(num_leaves=32\n",
    "                       ,max_depth=10\n",
    "                       ,learning_rate=0.1\n",
    "                       ,n_estimators=1000\n",
    "                       ,class_weight={0:2,1:3,2:1}\n",
    "                       ,objective='multiclass'\n",
    "                       ,n_jobs=-1\n",
    "                       ,colsample_bytree = 0.7\n",
    "                       ,min_child_samples = 10\n",
    "                       ,random_state=2020)\n",
    "        #-----------------------------------------------------------------------------------------------\n",
    "        xlf.fit(expand_x_train[features],expand_y_train)\n",
    "        #------------------------------------------------------------------------------------------------\n",
    "        val_prob_xgb = xlf.predict_proba(x_test[features])\n",
    "        prob_xgb[test] = val_prob_xgb\n",
    "        val_pred_xgb = np.argmax(val_prob_xgb, axis=1)\n",
    "        #--------------------------------------------------------------------------------------------------\n",
    "        expand_val_prob_xgb = xlf.predict_proba(expand_x_test[features])\n",
    "        expand_prob_xgb[test] = expand_val_prob_xgb\n",
    "        expand_val_pred_xgb = np.argmax(expand_val_prob_xgb, axis=1)\n",
    "        #--------------------------------------------------------------------------------------------------\n",
    "        xgb_scores.append(f1_score(y_test, val_pred_xgb, average='macro'))\n",
    "        print('lgb score :' , xgb_scores[-1])\n",
    "        #---------------------------------------------------------------------------------------------------\n",
    "        expand_xgb_scores.append(f1_score(expand_y_test, expand_val_pred_xgb, average='macro'))\n",
    "        print('expand lgb score :' , expand_xgb_scores[-1])\n",
    "        #-------------------------------------------------------------------------------------------------\n",
    "        pred_prob_xgb += xlf.predict_proba(test_data[features])/5\n",
    "\n",
    "    pred_xgb = np.argmax(prob_xgb , axis=1)\n",
    "    print('lgb :' , f1_score(pred_xgb, kind, average='macro') )\n",
    "    print('average : ' , np.mean(xgb_scores) )\n",
    "\n",
    "    res = pd.DataFrame()\n",
    "    res['ship'] = test_data['ship']\n",
    "    res['pred'] = pd.Series(np.argmax(pred_prob_xgb,axis=1))\n",
    "    res['pred'] = res['pred'].map({0:'围网',1:'刺网',2:'拖网'})\n",
    "    res.to_csv('result.csv',header = None , index = None)\n",
    "    #全数据建模\n",
    "    xlf=lgb.LGBMClassifier(num_leaves=32\n",
    "                       ,max_depth=10\n",
    "                       ,learning_rate=0.1\n",
    "                       ,n_estimators=1000\n",
    "                       ,class_weight={0:2,1:3,2:1}\n",
    "                       ,objective='multiclass'\n",
    "                       ,n_jobs=-1\n",
    "                       ,colsample_bytree = 0.7\n",
    "                       ,min_child_samples = 10\n",
    "                       ,random_state=2020)\n",
    "    \n",
    "    xlf.fit(pd.concat([expand_train_data[features],train_data[features]]),pd.concat([expand_train_data.type,kind]))\n",
    "    test_pred_xgb = xlf.predict_proba(test_data[features])\n",
    "    return xlf , test_pred_xgb , prob_xgb\n",
    "    #以下是僵尸代码，如果删除上边的返回值，则下面的代码将会运行，从而变为lgb单模型预测。\n",
    "    res = pd.DataFrame()\n",
    "    res['ship'] = test_data['ship'].astype('int')\n",
    "    res['pred'] = pd.Series(np.argmax(test_pred_xgb,axis=1))\n",
    "    res['pred'] = res['pred'].map({0:'围网',1:'刺网',2:'拖网'})\n",
    "    if system == 'linux':\n",
    "        res.to_csv('/result.csv',header = None , index = None)\n",
    "    else:\n",
    "        res.to_csv('../result.csv',header = None , index = None)\n",
    "    print(os.listdir('/'))"
   ]
  },
  {
   "cell_type": "markdown",
   "metadata": {},
   "source": [
    "#### 模型融合（扩展数据）"
   ]
  },
  {
   "cell_type": "markdown",
   "metadata": {},
   "source": [
    "*模型融合过程与之前的的一样*"
   ]
  },
  {
   "cell_type": "code",
   "execution_count": 19,
   "metadata": {},
   "outputs": [],
   "source": [
    "def merge_expand(system = 'linux'):\n",
    "    lmodel , lgb_proba , train_prob_lgb = lgb_model_expand(system)\n",
    "    xmodel , xgb_probe , train_prob_xgb = xgb_model_expand(system)\n",
    "\n",
    "    if system == 'linux':\n",
    "        train_data = pd.read_csv('/train_data.csv')\n",
    "        test_data = pd.read_csv('/test_data.csv')\n",
    "    else:\n",
    "        train_data = pd.read_csv('../train_data.csv')\n",
    "        test_data = pd.read_csv('../test_data.csv')\n",
    "\n",
    "    test_pred = lgb_proba * 0.5 + xgb_probe * 0.5\n",
    "    train_pred = train_prob_lgb * 0.5 + train_prob_xgb * 0.5\n",
    "    print('merge ' , f1_score(np.argmax(train_pred,axis=1),train_data.type,average = 'macro'))\n",
    "    \n",
    "    res = pd.DataFrame()\n",
    "    res['ship'] = test_data['ship'].astype('int')\n",
    "    res['pred'] = pd.Series(np.argmax(test_pred,axis=1))\n",
    "    res['pred'] = res['pred'].map({0:'围网',1:'刺网',2:'拖网'})#{0:'拖网',1:'围网',2:'刺网'}\n",
    "    if system == 'linux':\n",
    "        res.to_csv('/result.csv',header = None , index = None)\n",
    "    else:\n",
    "        res.to_csv('../result.csv',header = None , index = None)\n",
    "    \n",
    "    return lmodel , xmodel , lgb_proba , xgb_probe , train_prob_lgb , train_prob_xgb\n"
   ]
  },
  {
   "cell_type": "markdown",
   "metadata": {},
   "source": [
    "#### 方案三"
   ]
  },
  {
   "cell_type": "markdown",
   "metadata": {},
   "source": [
    "主要思想是：想通过平滑处理来消除噪声。模型训练方便并没有改变。"
   ]
  },
  {
   "cell_type": "code",
   "execution_count": null,
   "metadata": {},
   "outputs": [],
   "source": [
    "import warnings\n",
    "import numpy as np\n",
    "import pandas as pd\n",
    "from tqdm import tqdm\n",
    "import os\n",
    "\n",
    "warnings.filterwarnings(\"ignore\")\n",
    "\n",
    "weights=np.hanning(10)\n",
    "weights\n",
    "print(weights.sum())\n",
    "\n",
    "features=[]\n",
    "f = []\n",
    "def read_information(path,know_type=True , columns = ['ship' , 'x' , 'y' , 'v' , 'd' , 'time','type']):\n",
    "    global f\n",
    "    global weights\n",
    "    f = []\n",
    "    df=pd.read_csv(path)\n",
    "    \n",
    "    df['time'] = pd.to_datetime(df['time'], format='%m%d %H:%M:%S')\n",
    "    time = df['time'].agg(lambda x:np.max(x) - np.min(x))\n",
    "    df.columns = columns\n",
    "    features.append(time.seconds)\n",
    "    f.append('diff_seconds')\n",
    "    features.append(df['ship'][0])\n",
    "    f.append('ship')\n",
    "    #数据平滑处理\n",
    "    df['x']=np.convolve(weights/weights.sum() , df['x'] , mode = 'same')\n",
    "    df['y']=np.convolve(weights/weights.sum() , df['y'] , mode = 'same')\n",
    "    df['v']=np.convolve(weights/weights.sum() , df['v'] , mode = 'same')\n",
    "    df['d']=np.convolve(weights/weights.sum() , df['d'] , mode = 'same')\n",
    "    \n",
    "    df['d'] = df['d'] / 180.0 * np.pi\n",
    "    df['dis'] = np.sqrt( df['x']**2 + df['y']**2 )\n",
    "\n",
    "    for pos in [0.01,0.05,0.1,0.2,0.3,0.4,0.5,0.6,0.7,0.8,0.9,0.95,0.99]:\n",
    "        for fea in ['dis','x' , 'y' , 'v' , 'd']:\n",
    "            features.append(df[fea].quantile(pos))\n",
    "            f.append(f'{fea}_{pos}')\n",
    "    \n",
    "    for func in ['median']:\n",
    "        for fea in ['dis','x' , 'y' , 'v' , 'd']:\n",
    "            features.append(df[fea].agg(func))\n",
    "            f.append(f'{fea}_{func}')\n",
    "    \n",
    "    df['time']=pd.to_datetime(df['time'],format='%m%d %H:%M:%S')\n",
    "    t_diff=df['time'].diff().iloc[1:].dt.total_seconds()\n",
    "    x_diff=df['x'].diff().iloc[1:].abs()\n",
    "    y_diff=df['y'].diff().iloc[1:].abs()\n",
    "    dis=sum(np.sqrt(x_diff**2+y_diff**2))\n",
    "    x_a_mean=(x_diff/t_diff).mean()\n",
    "    y_a_mean=(y_diff/t_diff).mean()\n",
    "    features.append(np.sqrt(x_a_mean**2+y_a_mean**2))#a\n",
    "    f.append('a')\n",
    " \n",
    "    if(know_type):\n",
    "        if(df[\"type\"].iloc[0]=='拖网'):\n",
    "            features.append(2)\n",
    "        if(df[\"type\"].iloc[0]=='刺网'):\n",
    "            features.append(1)\n",
    "        if(df[\"type\"].iloc[0]=='围网'):\n",
    "            features.append(0)\n",
    "        f.append('type')\n",
    "\n",
    "def get_train(system = 'linux'):\n",
    "    path_train=\"/tcdata/hy_round2_train_20200225/\"\n",
    "    if system == 'windows':\n",
    "        path_train=\"../tcdata/hy_round2_train_20200225/\"\n",
    "    print('train')    \n",
    "    print(os.listdir('/'))\n",
    "    ls = os.listdir(path_train)\n",
    "\n",
    "    for i in tqdm(ls):\n",
    "        if '.csv' in i:\n",
    "            read_information(f'{path_train}{i}',know_type=True)\n",
    "            \n",
    "    train_data=pd.DataFrame(np.array(features).reshape(len(ls),int(len(features)/len(ls))))\n",
    "    train_data.columns=f\n",
    "    return train_data\n",
    "\n",
    "def get_test(system = 'linux'):\n",
    "    print('testA')\n",
    "    path_test = \"/tcdata/hy_round2_testA_20200225/\"\n",
    "    if system == 'windows':\n",
    "        path_test = \"../tcdata/hy_round2_testA_20200225/\"\n",
    "    ls = os.listdir(path_test)\n",
    "    for i in tqdm(ls):\n",
    "        if '.csv' in i:\n",
    "            read_information(f'{path_test}{i}',know_type=False,columns=['ship' , 'x' , 'y' , 'v' , 'd' , 'time'])\n",
    "            \n",
    "    test_data=pd.DataFrame(np.array(features).reshape(len(ls),int(len(features)/len(ls))))\n",
    "    test_data.columns=f\n",
    "    print(f)\n",
    "    return test_data\n",
    "\n",
    "def extract(system = 'linux'):\n",
    "    global features\n",
    "    features = []\n",
    "    test_data = get_test(system)\n",
    "    features = []\n",
    "    train_data = get_train(system)\n",
    "    features = []\n",
    "    if system == 'linux':\n",
    "        train_data.to_csv('/train_data.csv' , index = None)\n",
    "        test_data.to_csv('/test_data.csv' , index = None)\n",
    "    else:\n",
    "        train_data.to_csv('../train_data.csv' , index = None)\n",
    "        test_data.to_csv('../test_data.csv' , index = None)\n"
   ]
  },
  {
   "cell_type": "markdown",
   "metadata": {},
   "source": [
    "### 复赛之后发现的问题"
   ]
  },
  {
   "cell_type": "markdown",
   "metadata": {},
   "source": [
    "1、模型特征单一，几乎只依赖于分位数特征。\n",
    "***\n",
    "2、模型泛华能力差，抖动比较剧烈，甚至于测试集的分布一旦改变，就回引起效果的剧烈改变。\n",
    "***\n",
    "3、思维不够开阔，没能提出什么有效的方法，由此发现自己的知识严重匮乏。\n",
    "***\n",
    "4、pandas和numpy使用不够熟练，很多想法实现比较费时。"
   ]
  }
 ],
 "metadata": {
  "kernelspec": {
   "display_name": "Python 3",
   "language": "python",
   "name": "python3"
  },
  "language_info": {
   "codemirror_mode": {
    "name": "ipython",
    "version": 3
   },
   "file_extension": ".py",
   "mimetype": "text/x-python",
   "name": "python",
   "nbconvert_exporter": "python",
   "pygments_lexer": "ipython3",
   "version": "3.7.4"
  }
 },
 "nbformat": 4,
 "nbformat_minor": 4
}
